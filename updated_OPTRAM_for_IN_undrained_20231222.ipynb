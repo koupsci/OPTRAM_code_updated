{
 "cells": [
  {
   "cell_type": "code",
   "execution_count": 5,
   "id": "d9b23fa5-43d2-4256-9a18-9a7aebe39b78",
   "metadata": {
    "tags": []
   },
   "outputs": [],
   "source": [
    "import rasterio\n",
    "import numpy as np\n",
    "from affine import Affine\n",
    "from pyproj import Proj, transform\n",
    "import pyproj\n",
    "# import xarray as xr\n",
    "import numpy as np\n",
    "import matplotlib.pyplot as plt\n",
    "import pandas as pd\n",
    "# import h5py\n",
    "# import pyhdf\n",
    "# from pyhdf.SD import SD, SDC\n",
    "# import re\n",
    "import matplotlib as mpl\n",
    "from mpl_toolkits.basemap import Basemap\n",
    "from PIL import Image\n",
    "import scipy.stats as stats\n",
    "import numpy.ma as ma"
   ]
  },
  {
   "cell_type": "code",
   "execution_count": null,
   "id": "76b9c534-fa31-43b7-aea0-f5f2e1736494",
   "metadata": {},
   "outputs": [],
   "source": []
  },
  {
   "cell_type": "code",
   "execution_count": 4,
   "id": "1e894325-e065-4ad1-a079-5bb36b753a40",
   "metadata": {},
   "outputs": [
    {
     "data": {
      "text/plain": [
       "-1.0"
      ]
     },
     "execution_count": 4,
     "metadata": {},
     "output_type": "execute_result"
    }
   ],
   "source": [
    "(0-5)/(10-5)"
   ]
  },
  {
   "cell_type": "code",
   "execution_count": null,
   "id": "623991d0-0bc9-4262-b6fb-5c4b6a8ad336",
   "metadata": {},
   "outputs": [],
   "source": []
  },
  {
   "cell_type": "code",
   "execution_count": 101,
   "id": "77231da9-1223-4994-af3a-9e4e6d68a5db",
   "metadata": {},
   "outputs": [],
   "source": [
    "qa_im = Image.open('/Users/nikaankoupaei/Downloads/LC08_L2SP_118062_20180928_20200830_02_T1_QA_PIXEL.TIF')\n",
    "\n"
   ]
  },
  {
   "cell_type": "code",
   "execution_count": 146,
   "id": "44a8ff35-b082-4da3-8c02-0d78027ded6d",
   "metadata": {},
   "outputs": [],
   "source": [
    "# Define red, nir, and swir bands\n",
    "red_im = Image.open('/Users/nikaankoupaei/Downloads/LC08_L2SP_118062_20180115_20200902_02_T1_SR_B4.TIF')\n",
    "nir_im = Image.open('/Users/nikaankoupaei/Downloads/LC08_L2SP_118062_20180115_20200902_02_T1_SR_B5.TIF')\n",
    "swir_im = Image.open('/Users/nikaankoupaei/Downloads/LC08_L2SP_118062_20180115_20200902_02_T1_SR_B7.TIF')"
   ]
  },
  {
   "cell_type": "code",
   "execution_count": 147,
   "id": "128d01a8-2a1d-4d6f-80e3-10faaf25e0c8",
   "metadata": {},
   "outputs": [],
   "source": [
    "# convert to pandas dataframe\n",
    "red = pd.DataFrame(np.array(red_im))\n",
    "nir = pd.DataFrame(np.array(nir_im))\n",
    "swir = pd.DataFrame(np.array(swir_im))"
   ]
  },
  {
   "cell_type": "code",
   "execution_count": 148,
   "id": "c9563d6a-da36-4dcb-8321-7c5b71c2788e",
   "metadata": {},
   "outputs": [],
   "source": [
    "# convert fill value to nans\n",
    "red=red.replace(0,np.nan)\n",
    "nir=nir.replace(0,np.nan)\n",
    "swir=swir.replace(0,np.nan)"
   ]
  },
  {
   "cell_type": "code",
   "execution_count": 149,
   "id": "1b104541-ee8a-4f4d-94e8-b9efefd2076f",
   "metadata": {},
   "outputs": [],
   "source": [
    "# filter through only valid values and replace non-valid values with nans \n",
    "mask_red = (red >= 7273) & (red <= 43636) \n",
    "mask_nir = (nir >= 7273) & (nir <= 43636)\n",
    "mask_swir = (swir >= 7273) & (swir <= 43636)\n",
    "\n",
    "red = red[mask_red]\n",
    "nir = nir[mask_nir]\n",
    "swir = swir[mask_swir]"
   ]
  },
  {
   "cell_type": "code",
   "execution_count": 150,
   "id": "2a92219b-025a-41f5-953c-8005b1311eb2",
   "metadata": {},
   "outputs": [],
   "source": [
    "# Multiply by scale factor and add offset\n",
    "red = (0.0000275*red) - 0.2\n",
    "nir = (0.0000275*nir) - 0.2\n",
    "swir = (0.0000275*swir) - 0.2"
   ]
  },
  {
   "cell_type": "code",
   "execution_count": 151,
   "id": "398712d7-8c3b-4174-a2bb-7b9cef415389",
   "metadata": {},
   "outputs": [],
   "source": [
    "# DELETE IF NEEDED\n",
    "\n",
    "red = np.asarray(red)\n",
    "nir = np.asarray(nir)\n",
    "swir = np.asarray(swir)"
   ]
  },
  {
   "cell_type": "code",
   "execution_count": null,
   "id": "63edd11e-20f8-4230-9277-b9bc0fa21d1d",
   "metadata": {},
   "outputs": [],
   "source": []
  },
  {
   "cell_type": "code",
   "execution_count": 152,
   "id": "2a3e0fe7-a5d5-4c44-8ee1-610c190567ce",
   "metadata": {},
   "outputs": [],
   "source": [
    "# DELETE IF NEEDED\n",
    "\n",
    "# slice the dataframes to obtain only region of interest\n",
    "\n",
    "# rows\n",
    "\n",
    "# red_arr = np.delete(red,slice(4000,9999999),0)\n",
    "# nir_arr = np.delete(nir,slice(4000,9999999),0)\n",
    "# swir_arr = np.delete(swir,slice(4000,9999999),0)\n",
    "\n",
    "# # columns\n",
    "\n",
    "# red = np.delete(red_arr,slice(4000,9999999),1)\n",
    "# nir = np.delete(nir_arr,slice(4000,9999999),1)\n",
    "# swir = np.delete(swir_arr,slice(4000,9999999),1)\n"
   ]
  },
  {
   "cell_type": "code",
   "execution_count": 153,
   "id": "fd87b1d0-5b64-482e-a930-e42aff6c7c21",
   "metadata": {},
   "outputs": [],
   "source": [
    "red = red[1200:2200,2700:3700]\n",
    "nir = nir[1200:2200,2700:3700]\n",
    "swir = swir[1200:2200,2700:3700]"
   ]
  },
  {
   "cell_type": "code",
   "execution_count": 154,
   "id": "5cc4389d-bb3b-468c-be44-6de3e37bfc15",
   "metadata": {},
   "outputs": [
    {
     "name": "stdout",
     "output_type": "stream",
     "text": [
      "(1000, 1000)\n",
      "(1000, 1000)\n",
      "(1000, 1000)\n"
     ]
    }
   ],
   "source": [
    "# check if shape is same for all\n",
    "print(red.shape)\n",
    "print(nir.shape)\n",
    "print(swir.shape)"
   ]
  },
  {
   "cell_type": "code",
   "execution_count": 155,
   "id": "616efed1-9238-4a3f-93f9-2dd6b3635985",
   "metadata": {},
   "outputs": [],
   "source": [
    "# Calculate NDVI and assign to variable\n",
    "ndvi=(nir-red)/(nir+red)"
   ]
  },
  {
   "cell_type": "code",
   "execution_count": 156,
   "id": "107634dd-c6c0-4fd7-a1df-fa41ea7be3a8",
   "metadata": {},
   "outputs": [],
   "source": [
    "# Delete\n",
    "ndvi_arr = np.asarray(ndvi) \n"
   ]
  },
  {
   "cell_type": "code",
   "execution_count": 157,
   "id": "ecdf04a4-b0ca-4615-871f-a56d73952757",
   "metadata": {},
   "outputs": [],
   "source": [
    "# filter ndvi values\n",
    "ndvi_arr[ndvi_arr < 0] = np.nan\n",
    "ndvi_arr[ndvi_arr > 1] = np.nan "
   ]
  },
  {
   "cell_type": "code",
   "execution_count": 158,
   "id": "f75b1cd1-a1f9-4cbf-bd17-087c85371aea",
   "metadata": {},
   "outputs": [],
   "source": [
    "ndvi = pd.DataFrame(ndvi_arr)"
   ]
  },
  {
   "cell_type": "code",
   "execution_count": 159,
   "id": "96002583-aa1c-42a6-a551-42b6b5373abd",
   "metadata": {},
   "outputs": [],
   "source": [
    "# convert swir back to array\n",
    "swir_arr = np.asarray(swir)"
   ]
  },
  {
   "cell_type": "code",
   "execution_count": 160,
   "id": "f3623226-d48f-40b2-948b-96f11619696b",
   "metadata": {},
   "outputs": [],
   "source": [
    "# filter swir values\n",
    "swir_arr[swir_arr < 0.01] = np.nan\n",
    "swir_arr[swir_arr > 100] = np.nan"
   ]
  },
  {
   "cell_type": "code",
   "execution_count": 161,
   "id": "7bfd0e94-e54f-4f18-a0cb-ec276e076bdb",
   "metadata": {},
   "outputs": [],
   "source": [
    "swir = pd.DataFrame(swir_arr)"
   ]
  },
  {
   "cell_type": "code",
   "execution_count": 162,
   "id": "da0c4de2-b442-4b2e-bdc7-5e5a9756a10e",
   "metadata": {},
   "outputs": [],
   "source": [
    "# Calculate STR and assign to variable\n",
    "str0=((1-swir)**2)/(2*swir)"
   ]
  },
  {
   "cell_type": "code",
   "execution_count": 163,
   "id": "d7132aba-4a21-4ecf-8f19-230978838068",
   "metadata": {},
   "outputs": [],
   "source": [
    "# THIS IS WHAT TO DO FOR FILTERING SWIR\n",
    "SWIR=pd.DataFrame(np.asarray(swir).flatten())"
   ]
  },
  {
   "cell_type": "code",
   "execution_count": 164,
   "id": "b1e2604b-a7e7-4baa-8497-2ca497ea3976",
   "metadata": {},
   "outputs": [],
   "source": [
    "SWIR=SWIR.rename(columns={0:'SWIR'})"
   ]
  },
  {
   "cell_type": "code",
   "execution_count": 165,
   "id": "4e39184f-0897-4aa9-99ae-37020465fd5b",
   "metadata": {},
   "outputs": [],
   "source": [
    "# END WHAT TO DO FOR FILTERING FOR SWIR"
   ]
  },
  {
   "cell_type": "code",
   "execution_count": 166,
   "id": "751ef783-cbbe-4edb-9b70-d2a1c747ac4a",
   "metadata": {},
   "outputs": [],
   "source": [
    "# START WHAT TO DO FOR FILTERING FOR NDVI"
   ]
  },
  {
   "cell_type": "code",
   "execution_count": 167,
   "id": "4d267491-1dcf-4684-886b-04d08fe6c341",
   "metadata": {},
   "outputs": [],
   "source": [
    "NDVI=pd.DataFrame(np.asarray(ndvi).flatten())"
   ]
  },
  {
   "cell_type": "code",
   "execution_count": 168,
   "id": "c53be9dc-2bb4-4fbe-879d-9d9d8cdd0113",
   "metadata": {},
   "outputs": [],
   "source": [
    "NDVI=NDVI.rename(columns={0:'NDVI'})"
   ]
  },
  {
   "cell_type": "code",
   "execution_count": 169,
   "id": "7ea1e42f-cfd9-42ed-881d-6c2e645dd1f2",
   "metadata": {},
   "outputs": [],
   "source": [
    "# (DELETE IF NEEDED)\n",
    "NDVI['STR'] = ((1-SWIR['SWIR'])**2)/(2*SWIR['SWIR']) "
   ]
  },
  {
   "cell_type": "code",
   "execution_count": 170,
   "id": "bec7dca7-0023-4898-ab74-0210341df9e0",
   "metadata": {},
   "outputs": [
    {
     "data": {
      "text/html": [
       "<div>\n",
       "<style scoped>\n",
       "    .dataframe tbody tr th:only-of-type {\n",
       "        vertical-align: middle;\n",
       "    }\n",
       "\n",
       "    .dataframe tbody tr th {\n",
       "        vertical-align: top;\n",
       "    }\n",
       "\n",
       "    .dataframe thead th {\n",
       "        text-align: right;\n",
       "    }\n",
       "</style>\n",
       "<table border=\"1\" class=\"dataframe\">\n",
       "  <thead>\n",
       "    <tr style=\"text-align: right;\">\n",
       "      <th></th>\n",
       "      <th>NDVI</th>\n",
       "      <th>STR</th>\n",
       "    </tr>\n",
       "  </thead>\n",
       "  <tbody>\n",
       "    <tr>\n",
       "      <th>0</th>\n",
       "      <td>0.512383</td>\n",
       "      <td>2.710636</td>\n",
       "    </tr>\n",
       "    <tr>\n",
       "      <th>1</th>\n",
       "      <td>0.542571</td>\n",
       "      <td>3.389530</td>\n",
       "    </tr>\n",
       "    <tr>\n",
       "      <th>2</th>\n",
       "      <td>0.578933</td>\n",
       "      <td>4.076126</td>\n",
       "    </tr>\n",
       "    <tr>\n",
       "      <th>3</th>\n",
       "      <td>0.644690</td>\n",
       "      <td>5.249323</td>\n",
       "    </tr>\n",
       "    <tr>\n",
       "      <th>4</th>\n",
       "      <td>0.662822</td>\n",
       "      <td>5.679949</td>\n",
       "    </tr>\n",
       "    <tr>\n",
       "      <th>...</th>\n",
       "      <td>...</td>\n",
       "      <td>...</td>\n",
       "    </tr>\n",
       "    <tr>\n",
       "      <th>999995</th>\n",
       "      <td>0.584787</td>\n",
       "      <td>2.702780</td>\n",
       "    </tr>\n",
       "    <tr>\n",
       "      <th>999996</th>\n",
       "      <td>0.627701</td>\n",
       "      <td>2.940986</td>\n",
       "    </tr>\n",
       "    <tr>\n",
       "      <th>999997</th>\n",
       "      <td>0.626302</td>\n",
       "      <td>2.979578</td>\n",
       "    </tr>\n",
       "    <tr>\n",
       "      <th>999998</th>\n",
       "      <td>0.584083</td>\n",
       "      <td>2.804712</td>\n",
       "    </tr>\n",
       "    <tr>\n",
       "      <th>999999</th>\n",
       "      <td>0.558714</td>\n",
       "      <td>2.683646</td>\n",
       "    </tr>\n",
       "  </tbody>\n",
       "</table>\n",
       "<p>1000000 rows × 2 columns</p>\n",
       "</div>"
      ],
      "text/plain": [
       "            NDVI       STR\n",
       "0       0.512383  2.710636\n",
       "1       0.542571  3.389530\n",
       "2       0.578933  4.076126\n",
       "3       0.644690  5.249323\n",
       "4       0.662822  5.679949\n",
       "...          ...       ...\n",
       "999995  0.584787  2.702780\n",
       "999996  0.627701  2.940986\n",
       "999997  0.626302  2.979578\n",
       "999998  0.584083  2.804712\n",
       "999999  0.558714  2.683646\n",
       "\n",
       "[1000000 rows x 2 columns]"
      ]
     },
     "execution_count": 170,
     "metadata": {},
     "output_type": "execute_result"
    }
   ],
   "source": [
    "# MAIN DATAFRAME (DELETE IF NEEDED)\n",
    "DF = NDVI\n",
    "DF"
   ]
  },
  {
   "cell_type": "code",
   "execution_count": 171,
   "id": "62d7ecbf-77b8-46de-9814-85fac15f8241",
   "metadata": {},
   "outputs": [],
   "source": [
    "x_wet=np.linspace(0,1,100)\n",
    "x_dry=np.linspace(0,1,100)"
   ]
  },
  {
   "cell_type": "code",
   "execution_count": 172,
   "id": "79feb055-e693-4240-b031-cae64bc0d4d1",
   "metadata": {},
   "outputs": [],
   "source": [
    "# convert to array and flatten ndvi and str\n",
    "ndvi_flat=np.asarray(ndvi).flatten()\n",
    "str0_flat=np.asarray(str0).flatten()"
   ]
  },
  {
   "cell_type": "code",
   "execution_count": 173,
   "id": "d496b4c0-ebb4-47bf-a528-e9dcda53f5fb",
   "metadata": {},
   "outputs": [],
   "source": [
    "# convert both to list\n",
    "ndvi_list = ndvi_flat.tolist()\n",
    "str0_list = str0_flat.tolist()"
   ]
  },
  {
   "cell_type": "code",
   "execution_count": 174,
   "id": "89deeb7b-13fe-4542-ad80-cb8dbf8b0a5e",
   "metadata": {},
   "outputs": [],
   "source": [
    "# calculate STR max list (change \"before\" equation below accordingly)\n",
    "str_max_list=[]\n",
    "for i in range(len(ndvi_list)):\n",
    "    if ((30.134*ndvi_list[i])+5.856) > str0_list[i] and ((2.121*ndvi_list[i])-0.296) < str0_list[i]:\n",
    "            before=(30.134*ndvi_list[i])+5.856\n",
    "            str_max_list.append(before)\n",
    "    else:\n",
    "        str_max_list.append(np.nan) "
   ]
  },
  {
   "cell_type": "code",
   "execution_count": 175,
   "id": "2381e6db-b1c1-4fbf-a686-fb04184c01ff",
   "metadata": {},
   "outputs": [],
   "source": [
    "# calculate STR min list (change \"before\" equation below accordingly)\n",
    "str_min_list=[]\n",
    "for i in range(len(ndvi_list)):\n",
    "    if ((30.134*ndvi_list[i])+5.856) > str0_list[i] and ((2.121*ndvi_list[i])-0.296) < str0_list[i]:\n",
    "            before=(2.121*ndvi_list[i])-0.296\n",
    "            str_min_list.append(before)\n",
    "    else:\n",
    "        str_min_list.append(np.nan)"
   ]
  },
  {
   "cell_type": "code",
   "execution_count": 176,
   "id": "7e52f87e-465f-4171-bb7e-0d67b3c14f57",
   "metadata": {},
   "outputs": [],
   "source": [
    "str0_max_arr = np.asarray(str_max_list)\n",
    "str0_min_arr = np.asarray(str_min_list)"
   ]
  },
  {
   "cell_type": "code",
   "execution_count": 177,
   "id": "3158fd7e-f8d9-4f78-9bcf-961a484e903a",
   "metadata": {},
   "outputs": [],
   "source": [
    "str_max = str0_max_arr.reshape((red.shape[0], red.shape[1]))\n",
    "str_min = str0_min_arr.reshape((red.shape[0], red.shape[1]))"
   ]
  },
  {
   "cell_type": "code",
   "execution_count": null,
   "id": "e0686488-1ad3-4e33-a447-604c52087395",
   "metadata": {},
   "outputs": [],
   "source": []
  },
  {
   "cell_type": "code",
   "execution_count": null,
   "id": "db3c2015-145b-49db-aa1f-09b8b459f023",
   "metadata": {},
   "outputs": [],
   "source": []
  },
  {
   "cell_type": "code",
   "execution_count": 178,
   "id": "2d2440a3-c378-41dd-8839-d2a94d12bccb",
   "metadata": {},
   "outputs": [
    {
     "data": {
      "text/plain": [
       "[<matplotlib.lines.Line2D at 0x7fc93d5438e0>]"
      ]
     },
     "execution_count": 178,
     "metadata": {},
     "output_type": "execute_result"
    },
    {
     "data": {
      "image/png": "[encoded data removed]",
      "text/plain": [
       "<Figure size 600x400 with 1 Axes>"
      ]
     },
     "metadata": {},
     "output_type": "display_data"
    }
   ],
   "source": [
    "# plt.figure(figsize=(6,4))\n",
    "# plt.title('2018-01-31',fontsize=16)\n",
    "# plt.scatter(DF['NDVI'],DF['STR'],color='black',s=0.01)\n",
    "# # plt.ylim(-1,100)\n",
    "# # plt.xlim(0,1)\n",
    "# plt.xlabel('NDVI',fontsize=14)\n",
    "# plt.ylabel('STR',fontsize=14)\n",
    "# plt.tick_params(axis='x', labelsize=12)\n",
    "# plt.tick_params(axis='y', labelsize=12)\n",
    "# # plt.scatter(DF['NDVI'],str0_max_arr,color='hotpink')\n",
    "# # plt.scatter(DF['NDVI'],str0_min_arr,color='green')\n",
    "# plt.plot(x_wet,(30.134*x_wet+5.856),color='blue',linewidth=3)\n",
    "# plt.plot(x_dry,(2.121*x_dry)-.296,color='red',linewidth=3)\n",
    "\n",
    "# plt.savefig('/Users/nikaankoupaei/Downloads/20240207_STR_NDVI_PANEL_20181201.png',dpi=300,bbox_inches=\"tight\")"
   ]
  },
  {
   "cell_type": "code",
   "execution_count": 68,
   "id": "008f2c6a-a486-4dff-ab2a-d7955b063570",
   "metadata": {},
   "outputs": [],
   "source": [
    "qa_arr = np.asarray(qa_im)"
   ]
  },
  {
   "cell_type": "code",
   "execution_count": 69,
   "id": "0f0449ee-8364-4f74-b405-0b55e23d401f",
   "metadata": {},
   "outputs": [],
   "source": [
    "qa_arr_sliced = qa_arr[1200:2200,2700:3700]"
   ]
  },
  {
   "cell_type": "code",
   "execution_count": 70,
   "id": "108a1792-f238-4db4-9213-b6687612a05e",
   "metadata": {},
   "outputs": [],
   "source": [
    "# DELETE IF NEEDED\n",
    "\n",
    "# slice the dataframes to obtain only region of interest\n",
    "\n",
    "# rows\n",
    "\n",
    "# qa_arr = np.delete(qa,slice(4000,9999999),0)\n",
    "\n",
    "# columns\n",
    "\n",
    "# qa_arr = np.delete(qa_arr,slice(4000,9999999),1)\n"
   ]
  },
  {
   "cell_type": "code",
   "execution_count": 71,
   "id": "f8d2ca3e-9125-470b-8abc-f49eba321cb4",
   "metadata": {},
   "outputs": [
    {
     "data": {
      "text/plain": [
       "(1000, 1000)"
      ]
     },
     "execution_count": 71,
     "metadata": {},
     "output_type": "execute_result"
    }
   ],
   "source": [
    "qa_arr_sliced.shape"
   ]
  },
  {
   "cell_type": "code",
   "execution_count": 72,
   "id": "e082ccfa-973f-40a5-b3eb-c9c8da969ca0",
   "metadata": {},
   "outputs": [],
   "source": [
    "qa = pd.DataFrame(qa_arr_sliced.flatten())"
   ]
  },
  {
   "cell_type": "code",
   "execution_count": 73,
   "id": "c421f486-a038-4b08-b925-cbcf225596aa",
   "metadata": {},
   "outputs": [
    {
     "data": {
      "text/plain": [
       "(1000000, 1)"
      ]
     },
     "execution_count": 73,
     "metadata": {},
     "output_type": "execute_result"
    }
   ],
   "source": [
    "qa.shape"
   ]
  },
  {
   "cell_type": "code",
   "execution_count": 74,
   "id": "79d83ba1-be2d-4c74-bbaf-55b9896494ea",
   "metadata": {},
   "outputs": [
    {
     "data": {
      "text/html": [
       "<div>\n",
       "<style scoped>\n",
       "    .dataframe tbody tr th:only-of-type {\n",
       "        vertical-align: middle;\n",
       "    }\n",
       "\n",
       "    .dataframe tbody tr th {\n",
       "        vertical-align: top;\n",
       "    }\n",
       "\n",
       "    .dataframe thead th {\n",
       "        text-align: right;\n",
       "    }\n",
       "</style>\n",
       "<table border=\"1\" class=\"dataframe\">\n",
       "  <thead>\n",
       "    <tr style=\"text-align: right;\">\n",
       "      <th></th>\n",
       "      <th>QA</th>\n",
       "    </tr>\n",
       "  </thead>\n",
       "  <tbody>\n",
       "    <tr>\n",
       "      <th>0</th>\n",
       "      <td>21824</td>\n",
       "    </tr>\n",
       "    <tr>\n",
       "      <th>1</th>\n",
       "      <td>21824</td>\n",
       "    </tr>\n",
       "    <tr>\n",
       "      <th>2</th>\n",
       "      <td>21824</td>\n",
       "    </tr>\n",
       "    <tr>\n",
       "      <th>3</th>\n",
       "      <td>21824</td>\n",
       "    </tr>\n",
       "    <tr>\n",
       "      <th>4</th>\n",
       "      <td>21824</td>\n",
       "    </tr>\n",
       "    <tr>\n",
       "      <th>...</th>\n",
       "      <td>...</td>\n",
       "    </tr>\n",
       "    <tr>\n",
       "      <th>999995</th>\n",
       "      <td>21824</td>\n",
       "    </tr>\n",
       "    <tr>\n",
       "      <th>999996</th>\n",
       "      <td>21824</td>\n",
       "    </tr>\n",
       "    <tr>\n",
       "      <th>999997</th>\n",
       "      <td>21824</td>\n",
       "    </tr>\n",
       "    <tr>\n",
       "      <th>999998</th>\n",
       "      <td>21824</td>\n",
       "    </tr>\n",
       "    <tr>\n",
       "      <th>999999</th>\n",
       "      <td>21824</td>\n",
       "    </tr>\n",
       "  </tbody>\n",
       "</table>\n",
       "<p>1000000 rows × 1 columns</p>\n",
       "</div>"
      ],
      "text/plain": [
       "           QA\n",
       "0       21824\n",
       "1       21824\n",
       "2       21824\n",
       "3       21824\n",
       "4       21824\n",
       "...       ...\n",
       "999995  21824\n",
       "999996  21824\n",
       "999997  21824\n",
       "999998  21824\n",
       "999999  21824\n",
       "\n",
       "[1000000 rows x 1 columns]"
      ]
     },
     "execution_count": 74,
     "metadata": {},
     "output_type": "execute_result"
    }
   ],
   "source": [
    "df_qa=qa.rename(columns={0:'QA'})\n",
    "df_qa"
   ]
  },
  {
   "cell_type": "code",
   "execution_count": 75,
   "id": "f9e1f66c-2af3-4130-85d7-ffb87974da40",
   "metadata": {},
   "outputs": [
    {
     "data": {
      "text/plain": [
       "QA   \n",
       "21824    997924\n",
       "22080       849\n",
       "23888       455\n",
       "21762       264\n",
       "22280       244\n",
       "21952       132\n",
       "22018       125\n",
       "23826         6\n",
       "24082         1\n",
       "dtype: int64"
      ]
     },
     "execution_count": 75,
     "metadata": {},
     "output_type": "execute_result"
    }
   ],
   "source": [
    "df_qa.value_counts()"
   ]
  },
  {
   "cell_type": "code",
   "execution_count": 8,
   "id": "f61f784e-c73a-4116-a343-20722f92a546",
   "metadata": {},
   "outputs": [
    {
     "data": {
      "text/plain": [
       "-1.0"
      ]
     },
     "execution_count": 8,
     "metadata": {},
     "output_type": "execute_result"
    }
   ],
   "source": [
    "(0 - 5)/(10 - 5)"
   ]
  },
  {
   "cell_type": "code",
   "execution_count": 76,
   "id": "2af727cc-6ace-4ae5-b2fa-e11ef6dbca5a",
   "metadata": {},
   "outputs": [],
   "source": [
    "OPTRAM = (str0 - str_min)/(str_max - str_min)"
   ]
  },
  {
   "cell_type": "code",
   "execution_count": 77,
   "id": "0da6160f-31b4-4a3c-a44a-9ee3eb63dbf8",
   "metadata": {},
   "outputs": [],
   "source": [
    "df_OPTRAM = pd.DataFrame(np.asarray(OPTRAM).flatten())"
   ]
  },
  {
   "cell_type": "code",
   "execution_count": 78,
   "id": "fd9137eb-4bc2-484d-b84b-ca0764a6b14d",
   "metadata": {},
   "outputs": [
    {
     "data": {
      "text/html": [
       "<div>\n",
       "<style scoped>\n",
       "    .dataframe tbody tr th:only-of-type {\n",
       "        vertical-align: middle;\n",
       "    }\n",
       "\n",
       "    .dataframe tbody tr th {\n",
       "        vertical-align: top;\n",
       "    }\n",
       "\n",
       "    .dataframe thead th {\n",
       "        text-align: right;\n",
       "    }\n",
       "</style>\n",
       "<table border=\"1\" class=\"dataframe\">\n",
       "  <thead>\n",
       "    <tr style=\"text-align: right;\">\n",
       "      <th></th>\n",
       "      <th>OPTRAM</th>\n",
       "    </tr>\n",
       "  </thead>\n",
       "  <tbody>\n",
       "    <tr>\n",
       "      <th>0</th>\n",
       "      <td>0.304571</td>\n",
       "    </tr>\n",
       "    <tr>\n",
       "      <th>1</th>\n",
       "      <td>0.308879</td>\n",
       "    </tr>\n",
       "    <tr>\n",
       "      <th>2</th>\n",
       "      <td>0.313162</td>\n",
       "    </tr>\n",
       "    <tr>\n",
       "      <th>3</th>\n",
       "      <td>0.301080</td>\n",
       "    </tr>\n",
       "    <tr>\n",
       "      <th>4</th>\n",
       "      <td>0.298879</td>\n",
       "    </tr>\n",
       "    <tr>\n",
       "      <th>...</th>\n",
       "      <td>...</td>\n",
       "    </tr>\n",
       "    <tr>\n",
       "      <th>999995</th>\n",
       "      <td>0.306193</td>\n",
       "    </tr>\n",
       "    <tr>\n",
       "      <th>999996</th>\n",
       "      <td>0.315902</td>\n",
       "    </tr>\n",
       "    <tr>\n",
       "      <th>999997</th>\n",
       "      <td>0.311876</td>\n",
       "    </tr>\n",
       "    <tr>\n",
       "      <th>999998</th>\n",
       "      <td>0.308036</td>\n",
       "    </tr>\n",
       "    <tr>\n",
       "      <th>999999</th>\n",
       "      <td>0.332133</td>\n",
       "    </tr>\n",
       "  </tbody>\n",
       "</table>\n",
       "<p>1000000 rows × 1 columns</p>\n",
       "</div>"
      ],
      "text/plain": [
       "          OPTRAM\n",
       "0       0.304571\n",
       "1       0.308879\n",
       "2       0.313162\n",
       "3       0.301080\n",
       "4       0.298879\n",
       "...          ...\n",
       "999995  0.306193\n",
       "999996  0.315902\n",
       "999997  0.311876\n",
       "999998  0.308036\n",
       "999999  0.332133\n",
       "\n",
       "[1000000 rows x 1 columns]"
      ]
     },
     "execution_count": 78,
     "metadata": {},
     "output_type": "execute_result"
    }
   ],
   "source": [
    "df_OPTRAM=df_OPTRAM.rename(columns={0:'OPTRAM'})\n",
    "df_OPTRAM"
   ]
  },
  {
   "cell_type": "code",
   "execution_count": 79,
   "id": "95b59fce-81e8-44fb-b519-e2df1efc7d6b",
   "metadata": {},
   "outputs": [
    {
     "name": "stdout",
     "output_type": "stream",
     "text": [
      "(1000000, 1)\n",
      "(1000000, 1)\n"
     ]
    }
   ],
   "source": [
    "print(df_qa.shape)\n",
    "print(df_OPTRAM.shape)"
   ]
  },
  {
   "cell_type": "code",
   "execution_count": 80,
   "id": "2c7b0db5-ebe2-403a-9553-b5c7e441ce7d",
   "metadata": {},
   "outputs": [
    {
     "data": {
      "text/html": [
       "<div>\n",
       "<style scoped>\n",
       "    .dataframe tbody tr th:only-of-type {\n",
       "        vertical-align: middle;\n",
       "    }\n",
       "\n",
       "    .dataframe tbody tr th {\n",
       "        vertical-align: top;\n",
       "    }\n",
       "\n",
       "    .dataframe thead th {\n",
       "        text-align: right;\n",
       "    }\n",
       "</style>\n",
       "<table border=\"1\" class=\"dataframe\">\n",
       "  <thead>\n",
       "    <tr style=\"text-align: right;\">\n",
       "      <th></th>\n",
       "      <th>OPTRAM</th>\n",
       "      <th>QA</th>\n",
       "    </tr>\n",
       "  </thead>\n",
       "  <tbody>\n",
       "    <tr>\n",
       "      <th>0</th>\n",
       "      <td>0.304571</td>\n",
       "      <td>21824</td>\n",
       "    </tr>\n",
       "    <tr>\n",
       "      <th>1</th>\n",
       "      <td>0.308879</td>\n",
       "      <td>21824</td>\n",
       "    </tr>\n",
       "    <tr>\n",
       "      <th>2</th>\n",
       "      <td>0.313162</td>\n",
       "      <td>21824</td>\n",
       "    </tr>\n",
       "    <tr>\n",
       "      <th>3</th>\n",
       "      <td>0.301080</td>\n",
       "      <td>21824</td>\n",
       "    </tr>\n",
       "    <tr>\n",
       "      <th>4</th>\n",
       "      <td>0.298879</td>\n",
       "      <td>21824</td>\n",
       "    </tr>\n",
       "    <tr>\n",
       "      <th>...</th>\n",
       "      <td>...</td>\n",
       "      <td>...</td>\n",
       "    </tr>\n",
       "    <tr>\n",
       "      <th>999995</th>\n",
       "      <td>0.306193</td>\n",
       "      <td>21824</td>\n",
       "    </tr>\n",
       "    <tr>\n",
       "      <th>999996</th>\n",
       "      <td>0.315902</td>\n",
       "      <td>21824</td>\n",
       "    </tr>\n",
       "    <tr>\n",
       "      <th>999997</th>\n",
       "      <td>0.311876</td>\n",
       "      <td>21824</td>\n",
       "    </tr>\n",
       "    <tr>\n",
       "      <th>999998</th>\n",
       "      <td>0.308036</td>\n",
       "      <td>21824</td>\n",
       "    </tr>\n",
       "    <tr>\n",
       "      <th>999999</th>\n",
       "      <td>0.332133</td>\n",
       "      <td>21824</td>\n",
       "    </tr>\n",
       "  </tbody>\n",
       "</table>\n",
       "<p>1000000 rows × 2 columns</p>\n",
       "</div>"
      ],
      "text/plain": [
       "          OPTRAM     QA\n",
       "0       0.304571  21824\n",
       "1       0.308879  21824\n",
       "2       0.313162  21824\n",
       "3       0.301080  21824\n",
       "4       0.298879  21824\n",
       "...          ...    ...\n",
       "999995  0.306193  21824\n",
       "999996  0.315902  21824\n",
       "999997  0.311876  21824\n",
       "999998  0.308036  21824\n",
       "999999  0.332133  21824\n",
       "\n",
       "[1000000 rows x 2 columns]"
      ]
     },
     "execution_count": 80,
     "metadata": {},
     "output_type": "execute_result"
    }
   ],
   "source": [
    "df_OPTRAM['QA'] = df_qa['QA']\n",
    "df_OPTRAM"
   ]
  },
  {
   "cell_type": "code",
   "execution_count": 81,
   "id": "ac42197a-c98f-40ba-b329-a645f9f4e62a",
   "metadata": {},
   "outputs": [],
   "source": [
    "# Setting all rows that are not clear (i.e. those that have cloudy pixels)\n",
    "\n",
    "df_clear = df_OPTRAM.where(df_OPTRAM['QA'] == 21824)"
   ]
  },
  {
   "cell_type": "code",
   "execution_count": 82,
   "id": "0ac4a1ad-993c-40f3-b45c-f186e53b7c11",
   "metadata": {},
   "outputs": [
    {
     "data": {
      "text/html": [
       "<div>\n",
       "<style scoped>\n",
       "    .dataframe tbody tr th:only-of-type {\n",
       "        vertical-align: middle;\n",
       "    }\n",
       "\n",
       "    .dataframe tbody tr th {\n",
       "        vertical-align: top;\n",
       "    }\n",
       "\n",
       "    .dataframe thead th {\n",
       "        text-align: right;\n",
       "    }\n",
       "</style>\n",
       "<table border=\"1\" class=\"dataframe\">\n",
       "  <thead>\n",
       "    <tr style=\"text-align: right;\">\n",
       "      <th></th>\n",
       "      <th>OPTRAM</th>\n",
       "      <th>QA</th>\n",
       "    </tr>\n",
       "  </thead>\n",
       "  <tbody>\n",
       "    <tr>\n",
       "      <th>0</th>\n",
       "      <td>0.304571</td>\n",
       "      <td>21824.0</td>\n",
       "    </tr>\n",
       "    <tr>\n",
       "      <th>1</th>\n",
       "      <td>0.308879</td>\n",
       "      <td>21824.0</td>\n",
       "    </tr>\n",
       "    <tr>\n",
       "      <th>2</th>\n",
       "      <td>0.313162</td>\n",
       "      <td>21824.0</td>\n",
       "    </tr>\n",
       "    <tr>\n",
       "      <th>3</th>\n",
       "      <td>0.301080</td>\n",
       "      <td>21824.0</td>\n",
       "    </tr>\n",
       "    <tr>\n",
       "      <th>4</th>\n",
       "      <td>0.298879</td>\n",
       "      <td>21824.0</td>\n",
       "    </tr>\n",
       "    <tr>\n",
       "      <th>...</th>\n",
       "      <td>...</td>\n",
       "      <td>...</td>\n",
       "    </tr>\n",
       "    <tr>\n",
       "      <th>999995</th>\n",
       "      <td>0.306193</td>\n",
       "      <td>21824.0</td>\n",
       "    </tr>\n",
       "    <tr>\n",
       "      <th>999996</th>\n",
       "      <td>0.315902</td>\n",
       "      <td>21824.0</td>\n",
       "    </tr>\n",
       "    <tr>\n",
       "      <th>999997</th>\n",
       "      <td>0.311876</td>\n",
       "      <td>21824.0</td>\n",
       "    </tr>\n",
       "    <tr>\n",
       "      <th>999998</th>\n",
       "      <td>0.308036</td>\n",
       "      <td>21824.0</td>\n",
       "    </tr>\n",
       "    <tr>\n",
       "      <th>999999</th>\n",
       "      <td>0.332133</td>\n",
       "      <td>21824.0</td>\n",
       "    </tr>\n",
       "  </tbody>\n",
       "</table>\n",
       "<p>1000000 rows × 2 columns</p>\n",
       "</div>"
      ],
      "text/plain": [
       "          OPTRAM       QA\n",
       "0       0.304571  21824.0\n",
       "1       0.308879  21824.0\n",
       "2       0.313162  21824.0\n",
       "3       0.301080  21824.0\n",
       "4       0.298879  21824.0\n",
       "...          ...      ...\n",
       "999995  0.306193  21824.0\n",
       "999996  0.315902  21824.0\n",
       "999997  0.311876  21824.0\n",
       "999998  0.308036  21824.0\n",
       "999999  0.332133  21824.0\n",
       "\n",
       "[1000000 rows x 2 columns]"
      ]
     },
     "execution_count": 82,
     "metadata": {},
     "output_type": "execute_result"
    }
   ],
   "source": [
    "df_clear"
   ]
  },
  {
   "cell_type": "code",
   "execution_count": 51,
   "id": "406425fe-0830-4001-8eb3-356f6f9b861a",
   "metadata": {},
   "outputs": [
    {
     "data": {
      "text/plain": [
       "(1000000,)"
      ]
     },
     "execution_count": 51,
     "metadata": {},
     "output_type": "execute_result"
    }
   ],
   "source": [
    "OPTRAM_clear_array = np.asarray(df_clear['OPTRAM'])\n",
    "OPTRAM_clear_array.shape"
   ]
  },
  {
   "cell_type": "code",
   "execution_count": 52,
   "id": "6ad69d32-70b9-4cf1-b923-02eaa9d9b254",
   "metadata": {},
   "outputs": [
    {
     "data": {
      "text/plain": [
       "(1000, 1000)"
      ]
     },
     "execution_count": 52,
     "metadata": {},
     "output_type": "execute_result"
    }
   ],
   "source": [
    "OPTRAM_FINAL_CLOUD_MASKED = OPTRAM_clear_array.reshape((1000,1000))\n",
    "OPTRAM_FINAL_CLOUD_MASKED.shape"
   ]
  },
  {
   "cell_type": "code",
   "execution_count": 53,
   "id": "811111b2-ef0a-4a16-bb7e-1a4174903096",
   "metadata": {},
   "outputs": [],
   "source": [
    "pd.DataFrame(OPTRAM_FINAL_CLOUD_MASKED).to_csv('/Users/nikaankoupaei/Downloads/ownCloud/20231222_OPTRAM_FILES_REALIZED_DIDNT_INLCUDE_VALID_RANGE_ENDS_FOR_LANDSAT/HIRANO_UF/NEW_FOR_20231222_cloud_masked_OPTRAM_20180928_hirano_filtered.csv')\n",
    "\n",
    "\n"
   ]
  }
 ],
 "metadata": {
  "kernelspec": {
   "display_name": "Python 3 (ipykernel)",
   "language": "python",
   "name": "python3"
  },
  "language_info": {
   "codemirror_mode": {
    "name": "ipython",
    "version": 3
   },
   "file_extension": ".py",
   "mimetype": "text/x-python",
   "name": "python",
   "nbconvert_exporter": "python",
   "pygments_lexer": "ipython3",
   "version": "3.8.13"
  }
 },
 "nbformat": 4,
 "nbformat_minor": 5
}
