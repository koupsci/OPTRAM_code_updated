{
 "cells": [
  {
   "cell_type": "code",
   "execution_count": 1,
   "id": "d9b23fa5-43d2-4256-9a18-9a7aebe39b78",
   "metadata": {
    "tags": []
   },
   "outputs": [],
   "source": [
    "import rasterio\n",
    "import numpy as np\n",
    "from affine import Affine\n",
    "from pyproj import Proj, transform\n",
    "import pyproj\n",
    "# import xarray as xr\n",
    "import numpy as np\n",
    "import matplotlib.pyplot as plt\n",
    "import pandas as pd\n",
    "# import h5py\n",
    "# import pyhdf\n",
    "# from pyhdf.SD import SD, SDC\n",
    "# import re\n",
    "import matplotlib as mpl\n",
    "from mpl_toolkits.basemap import Basemap\n",
    "from PIL import Image\n",
    "import scipy.stats as stats\n",
    "import numpy.ma as ma"
   ]
  },
  {
   "cell_type": "code",
   "execution_count": 2,
   "id": "355d6531-abef-4462-a788-33caefb62bba",
   "metadata": {},
   "outputs": [],
   "source": [
    "# Peru intact site coordinates (Hergoualch): -3.832483, -73.31418"
   ]
  },
  {
   "cell_type": "code",
   "execution_count": 3,
   "id": "cf3fd56a-6062-47f4-996d-82bf3e1c9f29",
   "metadata": {},
   "outputs": [],
   "source": [
    "# For intact site, using plot 1 section 1 in-situ water table data (units are cm)"
   ]
  },
  {
   "cell_type": "code",
   "execution_count": 4,
   "id": "f04794ad-3bf7-44ab-9ba5-9841be4c6468",
   "metadata": {},
   "outputs": [],
   "source": [
    "# Note that dates will not match exactly due to ~monthly temporal resolution of data"
   ]
  },
  {
   "cell_type": "code",
   "execution_count": 5,
   "id": "77231da9-1223-4994-af3a-9e4e6d68a5db",
   "metadata": {},
   "outputs": [],
   "source": [
    "qa_im = Image.open('/Users/nikaankoupaei/Downloads/LC08_L2SP_006063_20180725_20200831_02_T1_QA_PIXEL.TIF')\n",
    "\n"
   ]
  },
  {
   "cell_type": "code",
   "execution_count": 6,
   "id": "44a8ff35-b082-4da3-8c02-0d78027ded6d",
   "metadata": {},
   "outputs": [],
   "source": [
    "# Define red, nir, and swir bands\n",
    "red_im = Image.open('/Users/nikaankoupaei/Downloads/LC08_L2SP_006063_20180725_20200831_02_T1_SR_B4.TIF')\n",
    "nir_im = Image.open('/Users/nikaankoupaei/Downloads/LC08_L2SP_006063_20180725_20200831_02_T1_SR_B5.TIF')\n",
    "swir_im = Image.open('/Users/nikaankoupaei/Downloads/LC08_L2SP_006063_20180725_20200831_02_T1_SR_B7.TIF')\n",
    "\n"
   ]
  },
  {
   "cell_type": "code",
   "execution_count": 7,
   "id": "128d01a8-2a1d-4d6f-80e3-10faaf25e0c8",
   "metadata": {},
   "outputs": [],
   "source": [
    "# convert to pandas dataframe\n",
    "red = pd.DataFrame(np.array(red_im))\n",
    "nir = pd.DataFrame(np.array(nir_im))\n",
    "swir = pd.DataFrame(np.array(swir_im))"
   ]
  },
  {
   "cell_type": "code",
   "execution_count": 8,
   "id": "c9563d6a-da36-4dcb-8321-7c5b71c2788e",
   "metadata": {},
   "outputs": [],
   "source": [
    "# convert fill value to nans\n",
    "red=red.replace(0,np.nan)\n",
    "nir=nir.replace(0,np.nan)\n",
    "swir=swir.replace(0,np.nan)"
   ]
  },
  {
   "cell_type": "code",
   "execution_count": 9,
   "id": "1b104541-ee8a-4f4d-94e8-b9efefd2076f",
   "metadata": {},
   "outputs": [],
   "source": [
    "# filter through only valid values and replace non-valid values with nans \n",
    "mask_red = (red >= 7273) & (red <= 43636) \n",
    "mask_nir = (nir >= 7273) & (nir <= 43636)\n",
    "mask_swir = (swir >= 7273) & (swir <= 43636)\n",
    "\n",
    "red = red[mask_red]\n",
    "nir = nir[mask_nir]\n",
    "swir = swir[mask_swir]"
   ]
  },
  {
   "cell_type": "code",
   "execution_count": 10,
   "id": "2a92219b-025a-41f5-953c-8005b1311eb2",
   "metadata": {},
   "outputs": [],
   "source": [
    "# Multiply by scale factor and add offset\n",
    "red = (0.0000275*red) - 0.2\n",
    "nir = (0.0000275*nir) - 0.2\n",
    "swir = (0.0000275*swir) - 0.2"
   ]
  },
  {
   "cell_type": "code",
   "execution_count": 11,
   "id": "398712d7-8c3b-4174-a2bb-7b9cef415389",
   "metadata": {},
   "outputs": [],
   "source": [
    "# DELETE IF NEEDED\n",
    "\n",
    "red = np.asarray(red)\n",
    "nir = np.asarray(nir)\n",
    "swir = np.asarray(swir)"
   ]
  },
  {
   "cell_type": "code",
   "execution_count": 12,
   "id": "2a3e0fe7-a5d5-4c44-8ee1-610c190567ce",
   "metadata": {},
   "outputs": [],
   "source": [
    "# DELETE IF NEEDED\n",
    "\n",
    "# slice the dataframes to obtain only region of interest\n",
    "\n",
    "# # rows\n",
    "\n",
    "# red_arr1 = np.delete(red,slice(5000,9999999),0)\n",
    "# nir_arr1 = np.delete(nir,slice(5000,9999999),0)\n",
    "# swir_arr1 = np.delete(swir,slice(5000,9999999),0)\n",
    "\n",
    "# # # columns\n",
    "\n",
    "# red_arr = np.delete(red_arr1,slice(5000,9999999),1)\n",
    "# nir_arr = np.delete(nir_arr1,slice(5000,9999999),1)\n",
    "# swir_arr = np.delete(swir_arr1,slice(5000,9999999),1)\n"
   ]
  },
  {
   "cell_type": "code",
   "execution_count": 13,
   "id": "fd87b1d0-5b64-482e-a930-e42aff6c7c21",
   "metadata": {},
   "outputs": [],
   "source": [
    "red = red[1400:2400,3000:4000]\n",
    "nir = nir[1400:2400,3000:4000]\n",
    "swir = swir[1400:2400,3000:4000]"
   ]
  },
  {
   "cell_type": "code",
   "execution_count": 14,
   "id": "5cc4389d-bb3b-468c-be44-6de3e37bfc15",
   "metadata": {},
   "outputs": [
    {
     "name": "stdout",
     "output_type": "stream",
     "text": [
      "(1000, 1000)\n",
      "(1000, 1000)\n",
      "(1000, 1000)\n"
     ]
    }
   ],
   "source": [
    "# check if shape is same for all\n",
    "print(red.shape)\n",
    "print(nir.shape)\n",
    "print(swir.shape)"
   ]
  },
  {
   "cell_type": "code",
   "execution_count": 15,
   "id": "616efed1-9238-4a3f-93f9-2dd6b3635985",
   "metadata": {},
   "outputs": [],
   "source": [
    "# Calculate NDVI and assign to variable\n",
    "ndvi=(nir-red)/(nir+red)"
   ]
  },
  {
   "cell_type": "code",
   "execution_count": 16,
   "id": "107634dd-c6c0-4fd7-a1df-fa41ea7be3a8",
   "metadata": {},
   "outputs": [],
   "source": [
    "# Delete\n",
    "ndvi_arr = np.asarray(ndvi) \n"
   ]
  },
  {
   "cell_type": "code",
   "execution_count": 17,
   "id": "ecdf04a4-b0ca-4615-871f-a56d73952757",
   "metadata": {},
   "outputs": [],
   "source": [
    "# filter ndvi values\n",
    "ndvi_arr[ndvi_arr < 0] = np.nan\n",
    "ndvi_arr[ndvi_arr > 1] = np.nan "
   ]
  },
  {
   "cell_type": "code",
   "execution_count": 18,
   "id": "f75b1cd1-a1f9-4cbf-bd17-087c85371aea",
   "metadata": {},
   "outputs": [],
   "source": [
    "ndvi = pd.DataFrame(ndvi_arr)"
   ]
  },
  {
   "cell_type": "code",
   "execution_count": 19,
   "id": "96002583-aa1c-42a6-a551-42b6b5373abd",
   "metadata": {},
   "outputs": [],
   "source": [
    "# convert swir back to array\n",
    "swir = np.asarray(swir)"
   ]
  },
  {
   "cell_type": "code",
   "execution_count": 20,
   "id": "f3623226-d48f-40b2-948b-96f11619696b",
   "metadata": {},
   "outputs": [],
   "source": [
    "# filter swir values\n",
    "swir[swir < 0.01] = np.nan\n",
    "swir[swir > 100] = np.nan"
   ]
  },
  {
   "cell_type": "code",
   "execution_count": 21,
   "id": "7bfd0e94-e54f-4f18-a0cb-ec276e076bdb",
   "metadata": {},
   "outputs": [],
   "source": [
    "swir = pd.DataFrame(swir)"
   ]
  },
  {
   "cell_type": "code",
   "execution_count": 22,
   "id": "da0c4de2-b442-4b2e-bdc7-5e5a9756a10e",
   "metadata": {},
   "outputs": [],
   "source": [
    "# Calculate STR and assign to variable\n",
    "str0=((1-swir)**2)/(2*swir)"
   ]
  },
  {
   "cell_type": "code",
   "execution_count": 23,
   "id": "d7132aba-4a21-4ecf-8f19-230978838068",
   "metadata": {},
   "outputs": [],
   "source": [
    "# THIS IS WHAT TO DO FOR FILTERING SWIR\n",
    "SWIR=pd.DataFrame(np.asarray(swir).flatten())"
   ]
  },
  {
   "cell_type": "code",
   "execution_count": 24,
   "id": "b1e2604b-a7e7-4baa-8497-2ca497ea3976",
   "metadata": {},
   "outputs": [],
   "source": [
    "SWIR=SWIR.rename(columns={0:'SWIR'})"
   ]
  },
  {
   "cell_type": "code",
   "execution_count": 25,
   "id": "4e39184f-0897-4aa9-99ae-37020465fd5b",
   "metadata": {},
   "outputs": [],
   "source": [
    "# END WHAT TO DO FOR FILTERING FOR SWIR"
   ]
  },
  {
   "cell_type": "code",
   "execution_count": 26,
   "id": "751ef783-cbbe-4edb-9b70-d2a1c747ac4a",
   "metadata": {},
   "outputs": [],
   "source": [
    "# START WHAT TO DO FOR FILTERING FOR NDVI"
   ]
  },
  {
   "cell_type": "code",
   "execution_count": 27,
   "id": "4d267491-1dcf-4684-886b-04d08fe6c341",
   "metadata": {},
   "outputs": [],
   "source": [
    "NDVI=pd.DataFrame(np.asarray(ndvi).flatten())"
   ]
  },
  {
   "cell_type": "code",
   "execution_count": 28,
   "id": "c53be9dc-2bb4-4fbe-879d-9d9d8cdd0113",
   "metadata": {},
   "outputs": [],
   "source": [
    "NDVI=NDVI.rename(columns={0:'NDVI'})"
   ]
  },
  {
   "cell_type": "code",
   "execution_count": 29,
   "id": "7ea1e42f-cfd9-42ed-881d-6c2e645dd1f2",
   "metadata": {},
   "outputs": [],
   "source": [
    "# (DELETE IF NEEDED)\n",
    "NDVI['STR'] = ((1-SWIR['SWIR'])**2)/(2*SWIR['SWIR']) "
   ]
  },
  {
   "cell_type": "code",
   "execution_count": 30,
   "id": "bec7dca7-0023-4898-ab74-0210341df9e0",
   "metadata": {},
   "outputs": [
    {
     "data": {
      "text/html": [
       "<div>\n",
       "<style scoped>\n",
       "    .dataframe tbody tr th:only-of-type {\n",
       "        vertical-align: middle;\n",
       "    }\n",
       "\n",
       "    .dataframe tbody tr th {\n",
       "        vertical-align: top;\n",
       "    }\n",
       "\n",
       "    .dataframe thead th {\n",
       "        text-align: right;\n",
       "    }\n",
       "</style>\n",
       "<table border=\"1\" class=\"dataframe\">\n",
       "  <thead>\n",
       "    <tr style=\"text-align: right;\">\n",
       "      <th></th>\n",
       "      <th>NDVI</th>\n",
       "      <th>STR</th>\n",
       "    </tr>\n",
       "  </thead>\n",
       "  <tbody>\n",
       "    <tr>\n",
       "      <th>0</th>\n",
       "      <td>0.259752</td>\n",
       "      <td>0.708565</td>\n",
       "    </tr>\n",
       "    <tr>\n",
       "      <th>1</th>\n",
       "      <td>0.257930</td>\n",
       "      <td>0.702933</td>\n",
       "    </tr>\n",
       "    <tr>\n",
       "      <th>2</th>\n",
       "      <td>0.242087</td>\n",
       "      <td>0.680121</td>\n",
       "    </tr>\n",
       "    <tr>\n",
       "      <th>3</th>\n",
       "      <td>0.293198</td>\n",
       "      <td>0.844582</td>\n",
       "    </tr>\n",
       "    <tr>\n",
       "      <th>4</th>\n",
       "      <td>0.404574</td>\n",
       "      <td>1.085019</td>\n",
       "    </tr>\n",
       "    <tr>\n",
       "      <th>...</th>\n",
       "      <td>...</td>\n",
       "      <td>...</td>\n",
       "    </tr>\n",
       "    <tr>\n",
       "      <th>999995</th>\n",
       "      <td>0.051224</td>\n",
       "      <td>0.457879</td>\n",
       "    </tr>\n",
       "    <tr>\n",
       "      <th>999996</th>\n",
       "      <td>0.070374</td>\n",
       "      <td>0.562249</td>\n",
       "    </tr>\n",
       "    <tr>\n",
       "      <th>999997</th>\n",
       "      <td>0.084797</td>\n",
       "      <td>0.633829</td>\n",
       "    </tr>\n",
       "    <tr>\n",
       "      <th>999998</th>\n",
       "      <td>0.070867</td>\n",
       "      <td>0.582133</td>\n",
       "    </tr>\n",
       "    <tr>\n",
       "      <th>999999</th>\n",
       "      <td>0.057824</td>\n",
       "      <td>0.534040</td>\n",
       "    </tr>\n",
       "  </tbody>\n",
       "</table>\n",
       "<p>1000000 rows × 2 columns</p>\n",
       "</div>"
      ],
      "text/plain": [
       "            NDVI       STR\n",
       "0       0.259752  0.708565\n",
       "1       0.257930  0.702933\n",
       "2       0.242087  0.680121\n",
       "3       0.293198  0.844582\n",
       "4       0.404574  1.085019\n",
       "...          ...       ...\n",
       "999995  0.051224  0.457879\n",
       "999996  0.070374  0.562249\n",
       "999997  0.084797  0.633829\n",
       "999998  0.070867  0.582133\n",
       "999999  0.057824  0.534040\n",
       "\n",
       "[1000000 rows x 2 columns]"
      ]
     },
     "execution_count": 30,
     "metadata": {},
     "output_type": "execute_result"
    }
   ],
   "source": [
    "# MAIN DATAFRAME (DELETE IF NEEDED)\n",
    "DF = NDVI\n",
    "DF"
   ]
  },
  {
   "cell_type": "code",
   "execution_count": 31,
   "id": "62d7ecbf-77b8-46de-9814-85fac15f8241",
   "metadata": {},
   "outputs": [],
   "source": [
    "x_wet=np.linspace(0,1,100)\n",
    "x_dry=np.linspace(0,1,100)"
   ]
  },
  {
   "cell_type": "code",
   "execution_count": 32,
   "id": "79feb055-e693-4240-b031-cae64bc0d4d1",
   "metadata": {},
   "outputs": [],
   "source": [
    "# convert to array and flatten ndvi and str\n",
    "ndvi_flat=np.asarray(ndvi).flatten()\n",
    "str0_flat=np.asarray(str0).flatten()"
   ]
  },
  {
   "cell_type": "code",
   "execution_count": 33,
   "id": "d496b4c0-ebb4-47bf-a528-e9dcda53f5fb",
   "metadata": {},
   "outputs": [],
   "source": [
    "# convert both to list\n",
    "ndvi_list = ndvi_flat.tolist()\n",
    "str0_list = str0_flat.tolist()"
   ]
  },
  {
   "cell_type": "code",
   "execution_count": 34,
   "id": "89deeb7b-13fe-4542-ad80-cb8dbf8b0a5e",
   "metadata": {},
   "outputs": [],
   "source": [
    "# calculate STR max list (change \"before\" equation below accordingly)\n",
    "str_max_list=[]\n",
    "for i in range(len(ndvi_list)):\n",
    "    if ((30.134*ndvi_list[i])+5.856) > str0_list[i] and ((2.121*ndvi_list[i])-0.296) < str0_list[i]:\n",
    "            before=(30.134*ndvi_list[i])+5.856\n",
    "            str_max_list.append(before)\n",
    "    else:\n",
    "        str_max_list.append(np.nan) "
   ]
  },
  {
   "cell_type": "code",
   "execution_count": 35,
   "id": "2381e6db-b1c1-4fbf-a686-fb04184c01ff",
   "metadata": {},
   "outputs": [],
   "source": [
    "# calculate STR min list (change \"before\" equation below accordingly)\n",
    "str_min_list=[]\n",
    "for i in range(len(ndvi_list)):\n",
    "    if ((30.134*ndvi_list[i])+5.856) > str0_list[i] and ((2.121*ndvi_list[i])-0.296) < str0_list[i]:\n",
    "            before=(2.121*ndvi_list[i])-0.296\n",
    "            str_min_list.append(before)\n",
    "    else:\n",
    "        str_min_list.append(np.nan)"
   ]
  },
  {
   "cell_type": "code",
   "execution_count": 36,
   "id": "7e52f87e-465f-4171-bb7e-0d67b3c14f57",
   "metadata": {},
   "outputs": [],
   "source": [
    "str0_max_arr = np.asarray(str_max_list)\n",
    "str0_min_arr = np.asarray(str_min_list)"
   ]
  },
  {
   "cell_type": "code",
   "execution_count": 37,
   "id": "3158fd7e-f8d9-4f78-9bcf-961a484e903a",
   "metadata": {},
   "outputs": [],
   "source": [
    "str_max = str0_max_arr.reshape((red.shape[0], red.shape[1]))\n",
    "str_min = str0_min_arr.reshape((red.shape[0], red.shape[1]))"
   ]
  },
  {
   "cell_type": "code",
   "execution_count": 38,
   "id": "008f2c6a-a486-4dff-ab2a-d7955b063570",
   "metadata": {},
   "outputs": [],
   "source": [
    "qa_arr = np.asarray(qa_im)"
   ]
  },
  {
   "cell_type": "code",
   "execution_count": 39,
   "id": "0f0449ee-8364-4f74-b405-0b55e23d401f",
   "metadata": {},
   "outputs": [],
   "source": [
    "qa_arr_sliced = qa_arr[1400:2400,3000:4000]"
   ]
  },
  {
   "cell_type": "code",
   "execution_count": 40,
   "id": "108a1792-f238-4db4-9213-b6687612a05e",
   "metadata": {},
   "outputs": [],
   "source": [
    "# DELETE IF NEEDED\n",
    "\n",
    "# slice the dataframes to obtain only region of interest\n",
    "\n",
    "# rows\n",
    "\n",
    "# qa_arr111 = np.delete(qa_arr,slice(5000,9999999),0)\n",
    "\n",
    "# # columns\n",
    "\n",
    "# qa_arr_sliced = np.delete(qa_arr111,slice(5000,9999999),1)\n"
   ]
  },
  {
   "cell_type": "code",
   "execution_count": 41,
   "id": "f8d2ca3e-9125-470b-8abc-f49eba321cb4",
   "metadata": {},
   "outputs": [
    {
     "data": {
      "text/plain": [
       "(1000, 1000)"
      ]
     },
     "execution_count": 41,
     "metadata": {},
     "output_type": "execute_result"
    }
   ],
   "source": [
    "qa_arr_sliced.shape"
   ]
  },
  {
   "cell_type": "code",
   "execution_count": 42,
   "id": "e082ccfa-973f-40a5-b3eb-c9c8da969ca0",
   "metadata": {},
   "outputs": [],
   "source": [
    "qa = pd.DataFrame(qa_arr_sliced.flatten())"
   ]
  },
  {
   "cell_type": "code",
   "execution_count": 43,
   "id": "c421f486-a038-4b08-b925-cbcf225596aa",
   "metadata": {},
   "outputs": [
    {
     "data": {
      "text/plain": [
       "(1000000, 1)"
      ]
     },
     "execution_count": 43,
     "metadata": {},
     "output_type": "execute_result"
    }
   ],
   "source": [
    "qa.shape"
   ]
  },
  {
   "cell_type": "code",
   "execution_count": 44,
   "id": "79d83ba1-be2d-4c74-bbaf-55b9896494ea",
   "metadata": {},
   "outputs": [
    {
     "data": {
      "text/html": [
       "<div>\n",
       "<style scoped>\n",
       "    .dataframe tbody tr th:only-of-type {\n",
       "        vertical-align: middle;\n",
       "    }\n",
       "\n",
       "    .dataframe tbody tr th {\n",
       "        vertical-align: top;\n",
       "    }\n",
       "\n",
       "    .dataframe thead th {\n",
       "        text-align: right;\n",
       "    }\n",
       "</style>\n",
       "<table border=\"1\" class=\"dataframe\">\n",
       "  <thead>\n",
       "    <tr style=\"text-align: right;\">\n",
       "      <th></th>\n",
       "      <th>QA</th>\n",
       "    </tr>\n",
       "  </thead>\n",
       "  <tbody>\n",
       "    <tr>\n",
       "      <th>0</th>\n",
       "      <td>22280</td>\n",
       "    </tr>\n",
       "    <tr>\n",
       "      <th>1</th>\n",
       "      <td>22280</td>\n",
       "    </tr>\n",
       "    <tr>\n",
       "      <th>2</th>\n",
       "      <td>22280</td>\n",
       "    </tr>\n",
       "    <tr>\n",
       "      <th>3</th>\n",
       "      <td>22280</td>\n",
       "    </tr>\n",
       "    <tr>\n",
       "      <th>4</th>\n",
       "      <td>22280</td>\n",
       "    </tr>\n",
       "    <tr>\n",
       "      <th>...</th>\n",
       "      <td>...</td>\n",
       "    </tr>\n",
       "    <tr>\n",
       "      <th>999995</th>\n",
       "      <td>22280</td>\n",
       "    </tr>\n",
       "    <tr>\n",
       "      <th>999996</th>\n",
       "      <td>22280</td>\n",
       "    </tr>\n",
       "    <tr>\n",
       "      <th>999997</th>\n",
       "      <td>22280</td>\n",
       "    </tr>\n",
       "    <tr>\n",
       "      <th>999998</th>\n",
       "      <td>22280</td>\n",
       "    </tr>\n",
       "    <tr>\n",
       "      <th>999999</th>\n",
       "      <td>22280</td>\n",
       "    </tr>\n",
       "  </tbody>\n",
       "</table>\n",
       "<p>1000000 rows × 1 columns</p>\n",
       "</div>"
      ],
      "text/plain": [
       "           QA\n",
       "0       22280\n",
       "1       22280\n",
       "2       22280\n",
       "3       22280\n",
       "4       22280\n",
       "...       ...\n",
       "999995  22280\n",
       "999996  22280\n",
       "999997  22280\n",
       "999998  22280\n",
       "999999  22280\n",
       "\n",
       "[1000000 rows x 1 columns]"
      ]
     },
     "execution_count": 44,
     "metadata": {},
     "output_type": "execute_result"
    }
   ],
   "source": [
    "df_qa=qa.rename(columns={0:'QA'})\n",
    "df_qa"
   ]
  },
  {
   "cell_type": "code",
   "execution_count": 45,
   "id": "2af727cc-6ace-4ae5-b2fa-e11ef6dbca5a",
   "metadata": {},
   "outputs": [],
   "source": [
    "OPTRAM = (str0 - str_min)/(str_max - str_min)"
   ]
  },
  {
   "cell_type": "code",
   "execution_count": 46,
   "id": "0da6160f-31b4-4a3c-a44a-9ee3eb63dbf8",
   "metadata": {},
   "outputs": [],
   "source": [
    "df_OPTRAM = pd.DataFrame(np.asarray(OPTRAM).flatten())"
   ]
  },
  {
   "cell_type": "code",
   "execution_count": 47,
   "id": "fd9137eb-4bc2-484d-b84b-ca0764a6b14d",
   "metadata": {},
   "outputs": [
    {
     "data": {
      "text/html": [
       "<div>\n",
       "<style scoped>\n",
       "    .dataframe tbody tr th:only-of-type {\n",
       "        vertical-align: middle;\n",
       "    }\n",
       "\n",
       "    .dataframe tbody tr th {\n",
       "        vertical-align: top;\n",
       "    }\n",
       "\n",
       "    .dataframe thead th {\n",
       "        text-align: right;\n",
       "    }\n",
       "</style>\n",
       "<table border=\"1\" class=\"dataframe\">\n",
       "  <thead>\n",
       "    <tr style=\"text-align: right;\">\n",
       "      <th></th>\n",
       "      <th>OPTRAM</th>\n",
       "    </tr>\n",
       "  </thead>\n",
       "  <tbody>\n",
       "    <tr>\n",
       "      <th>0</th>\n",
       "      <td>0.033781</td>\n",
       "    </tr>\n",
       "    <tr>\n",
       "      <th>1</th>\n",
       "      <td>0.033778</td>\n",
       "    </tr>\n",
       "    <tr>\n",
       "      <th>2</th>\n",
       "      <td>0.035772</td>\n",
       "    </tr>\n",
       "    <tr>\n",
       "      <th>3</th>\n",
       "      <td>0.036108</td>\n",
       "    </tr>\n",
       "    <tr>\n",
       "      <th>4</th>\n",
       "      <td>0.029906</td>\n",
       "    </tr>\n",
       "    <tr>\n",
       "      <th>...</th>\n",
       "      <td>...</td>\n",
       "    </tr>\n",
       "    <tr>\n",
       "      <th>999995</th>\n",
       "      <td>0.085045</td>\n",
       "    </tr>\n",
       "    <tr>\n",
       "      <th>999996</th>\n",
       "      <td>0.087277</td>\n",
       "    </tr>\n",
       "    <tr>\n",
       "      <th>999997</th>\n",
       "      <td>0.087948</td>\n",
       "    </tr>\n",
       "    <tr>\n",
       "      <th>999998</th>\n",
       "      <td>0.089444</td>\n",
       "    </tr>\n",
       "    <tr>\n",
       "      <th>999999</th>\n",
       "      <td>0.091020</td>\n",
       "    </tr>\n",
       "  </tbody>\n",
       "</table>\n",
       "<p>1000000 rows × 1 columns</p>\n",
       "</div>"
      ],
      "text/plain": [
       "          OPTRAM\n",
       "0       0.033781\n",
       "1       0.033778\n",
       "2       0.035772\n",
       "3       0.036108\n",
       "4       0.029906\n",
       "...          ...\n",
       "999995  0.085045\n",
       "999996  0.087277\n",
       "999997  0.087948\n",
       "999998  0.089444\n",
       "999999  0.091020\n",
       "\n",
       "[1000000 rows x 1 columns]"
      ]
     },
     "execution_count": 47,
     "metadata": {},
     "output_type": "execute_result"
    }
   ],
   "source": [
    "df_OPTRAM=df_OPTRAM.rename(columns={0:'OPTRAM'})\n",
    "df_OPTRAM"
   ]
  },
  {
   "cell_type": "code",
   "execution_count": 48,
   "id": "95b59fce-81e8-44fb-b519-e2df1efc7d6b",
   "metadata": {},
   "outputs": [
    {
     "name": "stdout",
     "output_type": "stream",
     "text": [
      "(1000000, 1)\n",
      "(1000000, 1)\n"
     ]
    }
   ],
   "source": [
    "print(df_qa.shape)\n",
    "print(df_OPTRAM.shape)"
   ]
  },
  {
   "cell_type": "code",
   "execution_count": 49,
   "id": "2c7b0db5-ebe2-403a-9553-b5c7e441ce7d",
   "metadata": {},
   "outputs": [
    {
     "data": {
      "text/html": [
       "<div>\n",
       "<style scoped>\n",
       "    .dataframe tbody tr th:only-of-type {\n",
       "        vertical-align: middle;\n",
       "    }\n",
       "\n",
       "    .dataframe tbody tr th {\n",
       "        vertical-align: top;\n",
       "    }\n",
       "\n",
       "    .dataframe thead th {\n",
       "        text-align: right;\n",
       "    }\n",
       "</style>\n",
       "<table border=\"1\" class=\"dataframe\">\n",
       "  <thead>\n",
       "    <tr style=\"text-align: right;\">\n",
       "      <th></th>\n",
       "      <th>OPTRAM</th>\n",
       "      <th>QA</th>\n",
       "    </tr>\n",
       "  </thead>\n",
       "  <tbody>\n",
       "    <tr>\n",
       "      <th>0</th>\n",
       "      <td>0.033781</td>\n",
       "      <td>22280</td>\n",
       "    </tr>\n",
       "    <tr>\n",
       "      <th>1</th>\n",
       "      <td>0.033778</td>\n",
       "      <td>22280</td>\n",
       "    </tr>\n",
       "    <tr>\n",
       "      <th>2</th>\n",
       "      <td>0.035772</td>\n",
       "      <td>22280</td>\n",
       "    </tr>\n",
       "    <tr>\n",
       "      <th>3</th>\n",
       "      <td>0.036108</td>\n",
       "      <td>22280</td>\n",
       "    </tr>\n",
       "    <tr>\n",
       "      <th>4</th>\n",
       "      <td>0.029906</td>\n",
       "      <td>22280</td>\n",
       "    </tr>\n",
       "    <tr>\n",
       "      <th>...</th>\n",
       "      <td>...</td>\n",
       "      <td>...</td>\n",
       "    </tr>\n",
       "    <tr>\n",
       "      <th>999995</th>\n",
       "      <td>0.085045</td>\n",
       "      <td>22280</td>\n",
       "    </tr>\n",
       "    <tr>\n",
       "      <th>999996</th>\n",
       "      <td>0.087277</td>\n",
       "      <td>22280</td>\n",
       "    </tr>\n",
       "    <tr>\n",
       "      <th>999997</th>\n",
       "      <td>0.087948</td>\n",
       "      <td>22280</td>\n",
       "    </tr>\n",
       "    <tr>\n",
       "      <th>999998</th>\n",
       "      <td>0.089444</td>\n",
       "      <td>22280</td>\n",
       "    </tr>\n",
       "    <tr>\n",
       "      <th>999999</th>\n",
       "      <td>0.091020</td>\n",
       "      <td>22280</td>\n",
       "    </tr>\n",
       "  </tbody>\n",
       "</table>\n",
       "<p>1000000 rows × 2 columns</p>\n",
       "</div>"
      ],
      "text/plain": [
       "          OPTRAM     QA\n",
       "0       0.033781  22280\n",
       "1       0.033778  22280\n",
       "2       0.035772  22280\n",
       "3       0.036108  22280\n",
       "4       0.029906  22280\n",
       "...          ...    ...\n",
       "999995  0.085045  22280\n",
       "999996  0.087277  22280\n",
       "999997  0.087948  22280\n",
       "999998  0.089444  22280\n",
       "999999  0.091020  22280\n",
       "\n",
       "[1000000 rows x 2 columns]"
      ]
     },
     "execution_count": 49,
     "metadata": {},
     "output_type": "execute_result"
    }
   ],
   "source": [
    "df_OPTRAM['QA'] = df_qa['QA']\n",
    "df_OPTRAM"
   ]
  },
  {
   "cell_type": "code",
   "execution_count": 50,
   "id": "ac42197a-c98f-40ba-b329-a645f9f4e62a",
   "metadata": {},
   "outputs": [],
   "source": [
    "# Setting all rows that are not clear (i.e. those that have cloudy pixels)\n",
    "\n",
    "df_clear = df_OPTRAM.where(df_OPTRAM['QA'] == 21824)"
   ]
  },
  {
   "cell_type": "code",
   "execution_count": 51,
   "id": "0ac4a1ad-993c-40f3-b45c-f186e53b7c11",
   "metadata": {},
   "outputs": [
    {
     "data": {
      "text/html": [
       "<div>\n",
       "<style scoped>\n",
       "    .dataframe tbody tr th:only-of-type {\n",
       "        vertical-align: middle;\n",
       "    }\n",
       "\n",
       "    .dataframe tbody tr th {\n",
       "        vertical-align: top;\n",
       "    }\n",
       "\n",
       "    .dataframe thead th {\n",
       "        text-align: right;\n",
       "    }\n",
       "</style>\n",
       "<table border=\"1\" class=\"dataframe\">\n",
       "  <thead>\n",
       "    <tr style=\"text-align: right;\">\n",
       "      <th></th>\n",
       "      <th>OPTRAM</th>\n",
       "      <th>QA</th>\n",
       "    </tr>\n",
       "  </thead>\n",
       "  <tbody>\n",
       "    <tr>\n",
       "      <th>0</th>\n",
       "      <td>NaN</td>\n",
       "      <td>NaN</td>\n",
       "    </tr>\n",
       "    <tr>\n",
       "      <th>1</th>\n",
       "      <td>NaN</td>\n",
       "      <td>NaN</td>\n",
       "    </tr>\n",
       "    <tr>\n",
       "      <th>2</th>\n",
       "      <td>NaN</td>\n",
       "      <td>NaN</td>\n",
       "    </tr>\n",
       "    <tr>\n",
       "      <th>3</th>\n",
       "      <td>NaN</td>\n",
       "      <td>NaN</td>\n",
       "    </tr>\n",
       "    <tr>\n",
       "      <th>4</th>\n",
       "      <td>NaN</td>\n",
       "      <td>NaN</td>\n",
       "    </tr>\n",
       "    <tr>\n",
       "      <th>...</th>\n",
       "      <td>...</td>\n",
       "      <td>...</td>\n",
       "    </tr>\n",
       "    <tr>\n",
       "      <th>999995</th>\n",
       "      <td>NaN</td>\n",
       "      <td>NaN</td>\n",
       "    </tr>\n",
       "    <tr>\n",
       "      <th>999996</th>\n",
       "      <td>NaN</td>\n",
       "      <td>NaN</td>\n",
       "    </tr>\n",
       "    <tr>\n",
       "      <th>999997</th>\n",
       "      <td>NaN</td>\n",
       "      <td>NaN</td>\n",
       "    </tr>\n",
       "    <tr>\n",
       "      <th>999998</th>\n",
       "      <td>NaN</td>\n",
       "      <td>NaN</td>\n",
       "    </tr>\n",
       "    <tr>\n",
       "      <th>999999</th>\n",
       "      <td>NaN</td>\n",
       "      <td>NaN</td>\n",
       "    </tr>\n",
       "  </tbody>\n",
       "</table>\n",
       "<p>1000000 rows × 2 columns</p>\n",
       "</div>"
      ],
      "text/plain": [
       "        OPTRAM  QA\n",
       "0          NaN NaN\n",
       "1          NaN NaN\n",
       "2          NaN NaN\n",
       "3          NaN NaN\n",
       "4          NaN NaN\n",
       "...        ...  ..\n",
       "999995     NaN NaN\n",
       "999996     NaN NaN\n",
       "999997     NaN NaN\n",
       "999998     NaN NaN\n",
       "999999     NaN NaN\n",
       "\n",
       "[1000000 rows x 2 columns]"
      ]
     },
     "execution_count": 51,
     "metadata": {},
     "output_type": "execute_result"
    }
   ],
   "source": [
    "df_clear"
   ]
  },
  {
   "cell_type": "code",
   "execution_count": 52,
   "id": "406425fe-0830-4001-8eb3-356f6f9b861a",
   "metadata": {},
   "outputs": [
    {
     "data": {
      "text/plain": [
       "(1000000,)"
      ]
     },
     "execution_count": 52,
     "metadata": {},
     "output_type": "execute_result"
    }
   ],
   "source": [
    "OPTRAM_clear_array = np.asarray(df_clear['OPTRAM'])\n",
    "OPTRAM_clear_array.shape"
   ]
  },
  {
   "cell_type": "code",
   "execution_count": 53,
   "id": "6ad69d32-70b9-4cf1-b923-02eaa9d9b254",
   "metadata": {},
   "outputs": [
    {
     "data": {
      "text/plain": [
       "(1000, 1000)"
      ]
     },
     "execution_count": 53,
     "metadata": {},
     "output_type": "execute_result"
    }
   ],
   "source": [
    "OPTRAM_FINAL_CLOUD_MASKED = OPTRAM_clear_array.reshape((1000,1000))\n",
    "OPTRAM_FINAL_CLOUD_MASKED.shape"
   ]
  },
  {
   "cell_type": "code",
   "execution_count": 54,
   "id": "811111b2-ef0a-4a16-bb7e-1a4174903096",
   "metadata": {},
   "outputs": [],
   "source": [
    "pd.DataFrame(OPTRAM_FINAL_CLOUD_MASKED).to_csv('/Users/nikaankoupaei/Downloads/ownCloud/20231222_OPTRAM_FILES_REALIZED_DIDNT_INLCUDE_VALID_RANGE_ENDS_FOR_LANDSAT/PERU_mDeg/NEW_FOR_20231222_cloud_masked_OPTRAM_20180725_hergoualch_mDEG_filtered.csv')\n",
    "\n",
    "\n"
   ]
  },
  {
   "cell_type": "code",
   "execution_count": null,
   "id": "23d731f3-0d11-4929-b232-565a98271d05",
   "metadata": {},
   "outputs": [],
   "source": []
  }
 ],
 "metadata": {
  "kernelspec": {
   "display_name": "Python 3 (ipykernel)",
   "language": "python",
   "name": "python3"
  },
  "language_info": {
   "codemirror_mode": {
    "name": "ipython",
    "version": 3
   },
   "file_extension": ".py",
   "mimetype": "text/x-python",
   "name": "python",
   "nbconvert_exporter": "python",
   "pygments_lexer": "ipython3",
   "version": "3.8.13"
  }
 },
 "nbformat": 4,
 "nbformat_minor": 5
}
