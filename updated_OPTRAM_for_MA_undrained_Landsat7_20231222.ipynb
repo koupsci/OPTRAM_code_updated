{
 "cells": [
  {
   "cell_type": "code",
   "execution_count": 1,
   "id": "d9b23fa5-43d2-4256-9a18-9a7aebe39b78",
   "metadata": {
    "tags": []
   },
   "outputs": [],
   "source": [
    "import rasterio\n",
    "import numpy as np\n",
    "from affine import Affine\n",
    "from pyproj import Proj, transform\n",
    "import pyproj\n",
    "# import xarray as xr\n",
    "import numpy as np\n",
    "import matplotlib.pyplot as plt\n",
    "import pandas as pd\n",
    "# import h5py\n",
    "# import pyhdf\n",
    "# from pyhdf.SD import SD, SDC\n",
    "# import re\n",
    "import matplotlib as mpl\n",
    "from mpl_toolkits.basemap import Basemap\n",
    "from PIL import Image\n",
    "import scipy.stats as stats\n",
    "import numpy.ma as ma"
   ]
  },
  {
   "cell_type": "code",
   "execution_count": null,
   "id": "fc0e2837-9509-46b8-a77b-96986c03d612",
   "metadata": {},
   "outputs": [],
   "source": []
  },
  {
   "cell_type": "code",
   "execution_count": null,
   "id": "31ef9f7a-b693-4a0a-bae2-064dfce6b5a2",
   "metadata": {},
   "outputs": [],
   "source": []
  },
  {
   "cell_type": "code",
   "execution_count": 2,
   "id": "97661703-1dc8-4365-981f-87e348c9c3f9",
   "metadata": {},
   "outputs": [],
   "source": [
    "# Using path 121 and row 059"
   ]
  },
  {
   "cell_type": "code",
   "execution_count": 5,
   "id": "77231da9-1223-4994-af3a-9e4e6d68a5db",
   "metadata": {},
   "outputs": [],
   "source": [
    "qa_im = Image.open('/Users/nikaankoupaei/Downloads/LE07_L2SP_121059_20130607_20200907_02_T1_QA_PIXEL.TIF')\n",
    "\n"
   ]
  },
  {
   "cell_type": "code",
   "execution_count": 6,
   "id": "44a8ff35-b082-4da3-8c02-0d78027ded6d",
   "metadata": {},
   "outputs": [],
   "source": [
    "# Define red, nir, and swir bands\n",
    "red_im = Image.open('/Users/nikaankoupaei/Downloads/LE07_L2SP_121059_20130607_20200907_02_T1_SR_B3.TIF')\n",
    "nir_im = Image.open('/Users/nikaankoupaei/Downloads/LE07_L2SP_121059_20130607_20200907_02_T1_SR_B4.TIF')\n",
    "swir_im = Image.open('/Users/nikaankoupaei/Downloads/LE07_L2SP_121059_20130607_20200907_02_T1_SR_B7.TIF')\n",
    "\n"
   ]
  },
  {
   "cell_type": "code",
   "execution_count": 7,
   "id": "128d01a8-2a1d-4d6f-80e3-10faaf25e0c8",
   "metadata": {},
   "outputs": [],
   "source": [
    "# convert to pandas dataframe\n",
    "red = pd.DataFrame(np.array(red_im))\n",
    "nir = pd.DataFrame(np.array(nir_im))\n",
    "swir = pd.DataFrame(np.array(swir_im))"
   ]
  },
  {
   "cell_type": "code",
   "execution_count": 6,
   "id": "c9563d6a-da36-4dcb-8321-7c5b71c2788e",
   "metadata": {},
   "outputs": [],
   "source": [
    "# convert fill value to nans\n",
    "red=red.replace(0,np.nan)\n",
    "nir=nir.replace(0,np.nan)\n",
    "swir=swir.replace(0,np.nan)"
   ]
  },
  {
   "cell_type": "code",
   "execution_count": 7,
   "id": "1b104541-ee8a-4f4d-94e8-b9efefd2076f",
   "metadata": {},
   "outputs": [],
   "source": [
    "# filter through only valid values and replace non-valid values with nans \n",
    "mask_red = (red >= 7273) & (red <= 43636) \n",
    "mask_nir = (nir >= 7273) & (nir <= 43636)\n",
    "mask_swir = (swir >= 7273) & (swir <= 43636)\n",
    "\n",
    "red = red[mask_red]\n",
    "nir = nir[mask_nir]\n",
    "swir = swir[mask_swir]"
   ]
  },
  {
   "cell_type": "code",
   "execution_count": 8,
   "id": "2a92219b-025a-41f5-953c-8005b1311eb2",
   "metadata": {},
   "outputs": [],
   "source": [
    "# Multiply by scale factor and add offset\n",
    "red = (0.0000275*red) - 0.2\n",
    "nir = (0.0000275*nir) - 0.2\n",
    "swir = (0.0000275*swir) - 0.2"
   ]
  },
  {
   "cell_type": "code",
   "execution_count": 9,
   "id": "398712d7-8c3b-4174-a2bb-7b9cef415389",
   "metadata": {},
   "outputs": [],
   "source": [
    "# DELETE IF NEEDED\n",
    "\n",
    "red = np.asarray(red)\n",
    "nir = np.asarray(nir)\n",
    "swir = np.asarray(swir)"
   ]
  },
  {
   "cell_type": "code",
   "execution_count": 10,
   "id": "2a3e0fe7-a5d5-4c44-8ee1-610c190567ce",
   "metadata": {},
   "outputs": [],
   "source": [
    "# DELETE IF NEEDED\n",
    "\n",
    "# slice the dataframes to obtain only region of interest\n",
    "\n",
    "# rows\n",
    "\n",
    "# red_arr = np.delete(red,slice(4000,9999999),0)\n",
    "# nir_arr = np.delete(nir,slice(4000,9999999),0)\n",
    "# swir_arr = np.delete(swir,slice(4000,9999999),0)\n",
    "\n",
    "# # columns\n",
    "\n",
    "# red = np.delete(red_arr,slice(4000,9999999),1)\n",
    "# nir = np.delete(nir_arr,slice(4000,9999999),1)\n",
    "# swir = np.delete(swir_arr,slice(4000,9999999),1)\n"
   ]
  },
  {
   "cell_type": "code",
   "execution_count": 11,
   "id": "fd87b1d0-5b64-482e-a930-e42aff6c7c21",
   "metadata": {},
   "outputs": [],
   "source": [
    "red = red[3000:4000,6600:7600]\n",
    "nir = nir[3000:4000,6600:7600]\n",
    "swir = swir[3000:4000,6600:7600]"
   ]
  },
  {
   "cell_type": "code",
   "execution_count": 12,
   "id": "5cc4389d-bb3b-468c-be44-6de3e37bfc15",
   "metadata": {},
   "outputs": [
    {
     "name": "stdout",
     "output_type": "stream",
     "text": [
      "(1000, 1000)\n",
      "(1000, 1000)\n",
      "(1000, 1000)\n"
     ]
    }
   ],
   "source": [
    "# check if shape is same for all\n",
    "print(red.shape)\n",
    "print(nir.shape)\n",
    "print(swir.shape)"
   ]
  },
  {
   "cell_type": "code",
   "execution_count": 13,
   "id": "616efed1-9238-4a3f-93f9-2dd6b3635985",
   "metadata": {},
   "outputs": [],
   "source": [
    "# Calculate NDVI and assign to variable\n",
    "ndvi=(nir-red)/(nir+red)"
   ]
  },
  {
   "cell_type": "code",
   "execution_count": 14,
   "id": "107634dd-c6c0-4fd7-a1df-fa41ea7be3a8",
   "metadata": {},
   "outputs": [],
   "source": [
    "# Delete\n",
    "ndvi_arr = np.asarray(ndvi) \n"
   ]
  },
  {
   "cell_type": "code",
   "execution_count": 15,
   "id": "ecdf04a4-b0ca-4615-871f-a56d73952757",
   "metadata": {},
   "outputs": [],
   "source": [
    "# filter ndvi values\n",
    "ndvi_arr[ndvi_arr < 0] = np.nan\n",
    "ndvi_arr[ndvi_arr > 1] = np.nan "
   ]
  },
  {
   "cell_type": "code",
   "execution_count": 16,
   "id": "f75b1cd1-a1f9-4cbf-bd17-087c85371aea",
   "metadata": {},
   "outputs": [],
   "source": [
    "ndvi = pd.DataFrame(ndvi_arr)"
   ]
  },
  {
   "cell_type": "code",
   "execution_count": 17,
   "id": "96002583-aa1c-42a6-a551-42b6b5373abd",
   "metadata": {},
   "outputs": [],
   "source": [
    "# convert swir back to array\n",
    "swir_arr = np.asarray(swir)"
   ]
  },
  {
   "cell_type": "code",
   "execution_count": 18,
   "id": "f3623226-d48f-40b2-948b-96f11619696b",
   "metadata": {},
   "outputs": [],
   "source": [
    "# filter swir values\n",
    "swir_arr[swir_arr < 0.01] = np.nan\n",
    "swir_arr[swir_arr > 100] = np.nan"
   ]
  },
  {
   "cell_type": "code",
   "execution_count": 19,
   "id": "7bfd0e94-e54f-4f18-a0cb-ec276e076bdb",
   "metadata": {},
   "outputs": [],
   "source": [
    "swir = pd.DataFrame(swir_arr)"
   ]
  },
  {
   "cell_type": "code",
   "execution_count": 20,
   "id": "da0c4de2-b442-4b2e-bdc7-5e5a9756a10e",
   "metadata": {},
   "outputs": [],
   "source": [
    "# Calculate STR and assign to variable\n",
    "str0=((1-swir)**2)/(2*swir)"
   ]
  },
  {
   "cell_type": "code",
   "execution_count": 21,
   "id": "d7132aba-4a21-4ecf-8f19-230978838068",
   "metadata": {},
   "outputs": [],
   "source": [
    "# THIS IS WHAT TO DO FOR FILTERING SWIR\n",
    "SWIR=pd.DataFrame(np.asarray(swir).flatten())"
   ]
  },
  {
   "cell_type": "code",
   "execution_count": 22,
   "id": "b1e2604b-a7e7-4baa-8497-2ca497ea3976",
   "metadata": {},
   "outputs": [],
   "source": [
    "SWIR=SWIR.rename(columns={0:'SWIR'})"
   ]
  },
  {
   "cell_type": "code",
   "execution_count": 23,
   "id": "4e39184f-0897-4aa9-99ae-37020465fd5b",
   "metadata": {},
   "outputs": [],
   "source": [
    "# END WHAT TO DO FOR FILTERING FOR SWIR"
   ]
  },
  {
   "cell_type": "code",
   "execution_count": 24,
   "id": "751ef783-cbbe-4edb-9b70-d2a1c747ac4a",
   "metadata": {},
   "outputs": [],
   "source": [
    "# START WHAT TO DO FOR FILTERING FOR NDVI"
   ]
  },
  {
   "cell_type": "code",
   "execution_count": 25,
   "id": "4d267491-1dcf-4684-886b-04d08fe6c341",
   "metadata": {},
   "outputs": [],
   "source": [
    "NDVI=pd.DataFrame(np.asarray(ndvi).flatten())"
   ]
  },
  {
   "cell_type": "code",
   "execution_count": 26,
   "id": "c53be9dc-2bb4-4fbe-879d-9d9d8cdd0113",
   "metadata": {},
   "outputs": [],
   "source": [
    "NDVI=NDVI.rename(columns={0:'NDVI'})"
   ]
  },
  {
   "cell_type": "code",
   "execution_count": 27,
   "id": "7ea1e42f-cfd9-42ed-881d-6c2e645dd1f2",
   "metadata": {},
   "outputs": [],
   "source": [
    "# (DELETE IF NEEDED)\n",
    "NDVI['STR'] = ((1-SWIR['SWIR'])**2)/(2*SWIR['SWIR']) "
   ]
  },
  {
   "cell_type": "code",
   "execution_count": 28,
   "id": "bec7dca7-0023-4898-ab74-0210341df9e0",
   "metadata": {},
   "outputs": [
    {
     "data": {
      "text/html": [
       "<div>\n",
       "<style scoped>\n",
       "    .dataframe tbody tr th:only-of-type {\n",
       "        vertical-align: middle;\n",
       "    }\n",
       "\n",
       "    .dataframe tbody tr th {\n",
       "        vertical-align: top;\n",
       "    }\n",
       "\n",
       "    .dataframe thead th {\n",
       "        text-align: right;\n",
       "    }\n",
       "</style>\n",
       "<table border=\"1\" class=\"dataframe\">\n",
       "  <thead>\n",
       "    <tr style=\"text-align: right;\">\n",
       "      <th></th>\n",
       "      <th>NDVI</th>\n",
       "      <th>STR</th>\n",
       "    </tr>\n",
       "  </thead>\n",
       "  <tbody>\n",
       "    <tr>\n",
       "      <th>0</th>\n",
       "      <td>0.964929</td>\n",
       "      <td>23.308673</td>\n",
       "    </tr>\n",
       "    <tr>\n",
       "      <th>1</th>\n",
       "      <td>0.935714</td>\n",
       "      <td>26.587664</td>\n",
       "    </tr>\n",
       "    <tr>\n",
       "      <th>2</th>\n",
       "      <td>0.980598</td>\n",
       "      <td>20.752992</td>\n",
       "    </tr>\n",
       "    <tr>\n",
       "      <th>3</th>\n",
       "      <td>0.963934</td>\n",
       "      <td>18.684195</td>\n",
       "    </tr>\n",
       "    <tr>\n",
       "      <th>4</th>\n",
       "      <td>0.949901</td>\n",
       "      <td>23.308673</td>\n",
       "    </tr>\n",
       "    <tr>\n",
       "      <th>...</th>\n",
       "      <td>...</td>\n",
       "      <td>...</td>\n",
       "    </tr>\n",
       "    <tr>\n",
       "      <th>999995</th>\n",
       "      <td>NaN</td>\n",
       "      <td>NaN</td>\n",
       "    </tr>\n",
       "    <tr>\n",
       "      <th>999996</th>\n",
       "      <td>NaN</td>\n",
       "      <td>NaN</td>\n",
       "    </tr>\n",
       "    <tr>\n",
       "      <th>999997</th>\n",
       "      <td>NaN</td>\n",
       "      <td>NaN</td>\n",
       "    </tr>\n",
       "    <tr>\n",
       "      <th>999998</th>\n",
       "      <td>NaN</td>\n",
       "      <td>NaN</td>\n",
       "    </tr>\n",
       "    <tr>\n",
       "      <th>999999</th>\n",
       "      <td>NaN</td>\n",
       "      <td>NaN</td>\n",
       "    </tr>\n",
       "  </tbody>\n",
       "</table>\n",
       "<p>1000000 rows × 2 columns</p>\n",
       "</div>"
      ],
      "text/plain": [
       "            NDVI        STR\n",
       "0       0.964929  23.308673\n",
       "1       0.935714  26.587664\n",
       "2       0.980598  20.752992\n",
       "3       0.963934  18.684195\n",
       "4       0.949901  23.308673\n",
       "...          ...        ...\n",
       "999995       NaN        NaN\n",
       "999996       NaN        NaN\n",
       "999997       NaN        NaN\n",
       "999998       NaN        NaN\n",
       "999999       NaN        NaN\n",
       "\n",
       "[1000000 rows x 2 columns]"
      ]
     },
     "execution_count": 28,
     "metadata": {},
     "output_type": "execute_result"
    }
   ],
   "source": [
    "# MAIN DATAFRAME (DELETE IF NEEDED)\n",
    "DF = NDVI\n",
    "DF"
   ]
  },
  {
   "cell_type": "code",
   "execution_count": 29,
   "id": "62d7ecbf-77b8-46de-9814-85fac15f8241",
   "metadata": {},
   "outputs": [],
   "source": [
    "x_wet=np.linspace(0,1,100)\n",
    "x_dry=np.linspace(0,1,100)"
   ]
  },
  {
   "cell_type": "code",
   "execution_count": 30,
   "id": "79feb055-e693-4240-b031-cae64bc0d4d1",
   "metadata": {},
   "outputs": [],
   "source": [
    "# convert to array and flatten ndvi and str\n",
    "ndvi_flat=np.asarray(ndvi).flatten()\n",
    "str0_flat=np.asarray(str0).flatten()"
   ]
  },
  {
   "cell_type": "code",
   "execution_count": 31,
   "id": "d496b4c0-ebb4-47bf-a528-e9dcda53f5fb",
   "metadata": {},
   "outputs": [],
   "source": [
    "# convert both to list\n",
    "ndvi_list = ndvi_flat.tolist()\n",
    "str0_list = str0_flat.tolist()"
   ]
  },
  {
   "cell_type": "code",
   "execution_count": 32,
   "id": "89deeb7b-13fe-4542-ad80-cb8dbf8b0a5e",
   "metadata": {},
   "outputs": [],
   "source": [
    "# calculate STR max list (change \"before\" equation below accordingly)\n",
    "str_max_list=[]\n",
    "for i in range(len(ndvi_list)):\n",
    "    if ((30.134*ndvi_list[i])+5.856) > str0_list[i] and ((2.121*ndvi_list[i])-0.296) < str0_list[i]:\n",
    "            before=(30.134*ndvi_list[i])+5.856\n",
    "            str_max_list.append(before)\n",
    "    else:\n",
    "        str_max_list.append(np.nan) "
   ]
  },
  {
   "cell_type": "code",
   "execution_count": 33,
   "id": "2381e6db-b1c1-4fbf-a686-fb04184c01ff",
   "metadata": {},
   "outputs": [],
   "source": [
    "# calculate STR min list (change \"before\" equation below accordingly)\n",
    "str_min_list=[]\n",
    "for i in range(len(ndvi_list)):\n",
    "    if ((30.134*ndvi_list[i])+5.856) > str0_list[i] and ((2.121*ndvi_list[i])-0.296) < str0_list[i]:\n",
    "            before=(2.121*ndvi_list[i])-0.296\n",
    "            str_min_list.append(before)\n",
    "    else:\n",
    "        str_min_list.append(np.nan)"
   ]
  },
  {
   "cell_type": "code",
   "execution_count": 34,
   "id": "7e52f87e-465f-4171-bb7e-0d67b3c14f57",
   "metadata": {},
   "outputs": [],
   "source": [
    "str0_max_arr = np.asarray(str_max_list)\n",
    "str0_min_arr = np.asarray(str_min_list)"
   ]
  },
  {
   "cell_type": "code",
   "execution_count": 35,
   "id": "3158fd7e-f8d9-4f78-9bcf-961a484e903a",
   "metadata": {},
   "outputs": [],
   "source": [
    "str_max = str0_max_arr.reshape((red.shape[0], red.shape[1]))\n",
    "str_min = str0_min_arr.reshape((red.shape[0], red.shape[1]))"
   ]
  },
  {
   "cell_type": "code",
   "execution_count": 4,
   "id": "008f2c6a-a486-4dff-ab2a-d7955b063570",
   "metadata": {},
   "outputs": [],
   "source": [
    "qa_arr1 = np.asarray(qa_im)"
   ]
  },
  {
   "cell_type": "code",
   "execution_count": 5,
   "id": "84cb28b3-4a1a-4ba4-9e53-16e815ceb869",
   "metadata": {},
   "outputs": [],
   "source": [
    "# NEW CODE"
   ]
  },
  {
   "cell_type": "code",
   "execution_count": 6,
   "id": "6d7748d0-b288-4e61-b834-5dcb8246a7f1",
   "metadata": {},
   "outputs": [],
   "source": [
    "qa_df_NEW_20231222=pd.DataFrame(qa_arr1)"
   ]
  },
  {
   "cell_type": "code",
   "execution_count": 7,
   "id": "274529cb-fc7e-4e4d-8d7f-5d5ac59ca703",
   "metadata": {},
   "outputs": [],
   "source": [
    "# convert fill value to nans\n",
    "# qa_df_NEW_20231222=qa_df_NEW_20231222.replace(1,np.nan)\n",
    "# REMOVED THIS CODE BECAUSE WHEN TRYING TO CONVERT \"NAN\" TO BINARY THERE WAS A PROBLEM"
   ]
  },
  {
   "cell_type": "code",
   "execution_count": 8,
   "id": "4f487a72-6cf2-40b2-aabd-1b20d139b17d",
   "metadata": {},
   "outputs": [],
   "source": [
    "# filter through only valid values and replace non-valid values with nans \n",
    "mask_qa_df_NEW_20231222 = (qa_df_NEW_20231222 >= 5440) & (qa_df_NEW_20231222 <= 16382) | (qa_df_NEW_20231222 == 1)\n",
    "\n",
    "qa_df_NEW_20231222 = qa_df_NEW_20231222[mask_qa_df_NEW_20231222]"
   ]
  },
  {
   "cell_type": "code",
   "execution_count": 9,
   "id": "2c4fc5d7-9f6f-4944-b2ef-30146d35d23e",
   "metadata": {},
   "outputs": [],
   "source": [
    "qa_arr=np.asarray(qa_df_NEW_20231222)"
   ]
  },
  {
   "cell_type": "code",
   "execution_count": 10,
   "id": "98805b2d-c439-4586-b404-00fdf76bd2ad",
   "metadata": {},
   "outputs": [],
   "source": [
    "# END NEW CODE"
   ]
  },
  {
   "cell_type": "code",
   "execution_count": null,
   "id": "bfc64743-299c-48b5-9112-7537b439a3a5",
   "metadata": {},
   "outputs": [],
   "source": []
  },
  {
   "cell_type": "code",
   "execution_count": 11,
   "id": "0f0449ee-8364-4f74-b405-0b55e23d401f",
   "metadata": {},
   "outputs": [],
   "source": [
    "qa_arr_sliced = qa_arr[3000:4000,6600:7600]"
   ]
  },
  {
   "cell_type": "code",
   "execution_count": 12,
   "id": "108a1792-f238-4db4-9213-b6687612a05e",
   "metadata": {},
   "outputs": [],
   "source": [
    "# DELETE IF NEEDED\n",
    "\n",
    "# slice the dataframes to obtain only region of interest\n",
    "\n",
    "# rows\n",
    "\n",
    "# qa_arr = np.delete(qa,slice(4000,9999999),0)\n",
    "\n",
    "# columns\n",
    "\n",
    "# qa_arr = np.delete(qa_arr,slice(4000,9999999),1)\n"
   ]
  },
  {
   "cell_type": "code",
   "execution_count": 13,
   "id": "f8d2ca3e-9125-470b-8abc-f49eba321cb4",
   "metadata": {},
   "outputs": [
    {
     "data": {
      "text/plain": [
       "(1000, 1000)"
      ]
     },
     "execution_count": 13,
     "metadata": {},
     "output_type": "execute_result"
    }
   ],
   "source": [
    "qa_arr_sliced.shape"
   ]
  },
  {
   "cell_type": "code",
   "execution_count": 14,
   "id": "e082ccfa-973f-40a5-b3eb-c9c8da969ca0",
   "metadata": {},
   "outputs": [],
   "source": [
    "f_flat = qa_arr_sliced.flatten()"
   ]
  },
  {
   "cell_type": "code",
   "execution_count": 15,
   "id": "c421f486-a038-4b08-b925-cbcf225596aa",
   "metadata": {},
   "outputs": [
    {
     "data": {
      "text/plain": [
       "(1000000,)"
      ]
     },
     "execution_count": 15,
     "metadata": {},
     "output_type": "execute_result"
    }
   ],
   "source": [
    "f_flat.shape"
   ]
  },
  {
   "cell_type": "code",
   "execution_count": 16,
   "id": "9ebd6eb5-259e-4176-8c75-26f6e56bc602",
   "metadata": {},
   "outputs": [],
   "source": [
    "# convert integer array to binary and append to list\n",
    "binary_int = []\n",
    "binary_str = []\n",
    "for i in range(1000000):\n",
    "    b_array_int1 = int(bin(f_flat[i])[2:])\n",
    "    b_array_str1 = bin(f_flat[i])[2:]\n",
    "    binary_int.append(b_array_int1)\n",
    "    binary_str.append(b_array_str1)"
   ]
  },
  {
   "cell_type": "code",
   "execution_count": 17,
   "id": "4fe072ac-cd9a-4866-b83a-637c04163b67",
   "metadata": {},
   "outputs": [],
   "source": [
    "# convert list to array\n",
    "binary_int = np.asarray(binary_int)\n",
    "binary_str = np.asarray(binary_str)"
   ]
  },
  {
   "cell_type": "code",
   "execution_count": 18,
   "id": "823a1e83-97b5-4592-be80-edd0e7167d57",
   "metadata": {},
   "outputs": [
    {
     "data": {
      "text/plain": [
       "array([['1011100001000', '1011100001000', '1011100001000', ..., '1', '1',\n",
       "        '1'],\n",
       "       ['1011100001000', '1011100001000', '1011100001000', ..., '1', '1',\n",
       "        '1'],\n",
       "       ['1011100001000', '1011100001000', '1011100001000', ..., '1', '1',\n",
       "        '1'],\n",
       "       ...,\n",
       "       ['1', '1', '1', ..., '1', '1', '1'],\n",
       "       ['1', '1', '1', ..., '1', '1', '1'],\n",
       "       ['1', '1', '1', ..., '1', '1', '1']], dtype='<U14')"
      ]
     },
     "execution_count": 18,
     "metadata": {},
     "output_type": "execute_result"
    }
   ],
   "source": [
    "# reshape the array\n",
    "binary_final_int = binary_int.reshape(1000,1000)\n",
    "binary_final_str = binary_str.reshape(1000,1000)\n",
    "binary_final_str"
   ]
  },
  {
   "cell_type": "code",
   "execution_count": 19,
   "id": "340c00c3-d7fc-4aa6-9aa0-2e1f269921f4",
   "metadata": {},
   "outputs": [],
   "source": [
    "# START TEST"
   ]
  },
  {
   "cell_type": "code",
   "execution_count": 20,
   "id": "566e07d8-43a4-439d-ab72-9403b66fa468",
   "metadata": {},
   "outputs": [
    {
     "data": {
      "text/plain": [
       "1                 627396\n",
       "1010101000000     266039\n",
       "1011100001000      45403\n",
       "1010110000000      27211\n",
       "1010101000010       9309\n",
       "1110100010000       8538\n",
       "11010100100000      6911\n",
       "1110100010010       4483\n",
       "1011001000000       2021\n",
       "1011001000010       1168\n",
       "11010100100010       673\n",
       "1111000010010        398\n",
       "1111000010000        339\n",
       "1010110000010        111\n",
       "dtype: int64"
      ]
     },
     "execution_count": 20,
     "metadata": {},
     "output_type": "execute_result"
    }
   ],
   "source": [
    "pd.DataFrame(binary_final_str.flatten()).value_counts(dropna=False)"
   ]
  },
  {
   "cell_type": "code",
   "execution_count": 20,
   "id": "8d1d8d11-b220-414d-ace7-23ccbfc00618",
   "metadata": {},
   "outputs": [
    {
     "data": {
      "text/plain": [
       "'1'"
      ]
     },
     "execution_count": 20,
     "metadata": {},
     "output_type": "execute_result"
    }
   ],
   "source": [
    "binary_final_str.flatten()[999999]"
   ]
  },
  {
   "cell_type": "code",
   "execution_count": 25,
   "id": "6c238784-3309-4118-ad21-1e646caeeb06",
   "metadata": {},
   "outputs": [
    {
     "data": {
      "text/plain": [
       "'1010101000000'"
      ]
     },
     "execution_count": 25,
     "metadata": {},
     "output_type": "execute_result"
    }
   ],
   "source": [
    "binary_final_str.flatten()[0]"
   ]
  },
  {
   "cell_type": "code",
   "execution_count": 34,
   "id": "180aea9e-0be3-4f36-8783-bf549ea35a3b",
   "metadata": {},
   "outputs": [],
   "source": [
    "result = binary_final_str.flatten()[0][-10:-8] == '01'"
   ]
  },
  {
   "cell_type": "code",
   "execution_count": 35,
   "id": "f274b987-0c79-404e-8edb-3cbcb2ce589a",
   "metadata": {},
   "outputs": [
    {
     "data": {
      "text/plain": [
       "True"
      ]
     },
     "execution_count": 35,
     "metadata": {},
     "output_type": "execute_result"
    }
   ],
   "source": [
    "result"
   ]
  },
  {
   "cell_type": "code",
   "execution_count": null,
   "id": "0bd2d28c-282e-45c0-8fad-2373a5895cfa",
   "metadata": {},
   "outputs": [],
   "source": [
    "# END TEST"
   ]
  },
  {
   "cell_type": "code",
   "execution_count": 51,
   "id": "d32091c8-da1e-45b3-871b-04c11ed0004d",
   "metadata": {},
   "outputs": [
    {
     "data": {
      "text/plain": [
       "1000000"
      ]
     },
     "execution_count": 51,
     "metadata": {},
     "output_type": "execute_result"
    }
   ],
   "source": [
    "binary_final_str_flat = binary_final_str.flatten()\n",
    "len(binary_final_str_flat)"
   ]
  },
  {
   "cell_type": "code",
   "execution_count": 30,
   "id": "e192c46f-1156-4714-8f1c-ee5920480684",
   "metadata": {},
   "outputs": [],
   "source": [
    "# check if this new array recreates the previous array but in binary \n",
    "check_list = []\n",
    "for i in range(1000):\n",
    "    for j in range(1000):\n",
    "        check = binary_final_int[i][j] == int(bin(qa_arr_sliced[i][j])[2:]) \n",
    "        check_list.append(check)"
   ]
  },
  {
   "cell_type": "code",
   "execution_count": 31,
   "id": "09603eaa-a2e2-4826-8a13-3a2bbd164e6a",
   "metadata": {},
   "outputs": [
    {
     "data": {
      "text/plain": [
       "True"
      ]
     },
     "execution_count": 31,
     "metadata": {},
     "output_type": "execute_result"
    }
   ],
   "source": [
    "# if True, means that statement in the above cell has been fulfilled\n",
    "for i in range(1000000):\n",
    "    b = check_list[i] == True  \n",
    "b"
   ]
  },
  {
   "cell_type": "code",
   "execution_count": 54,
   "id": "8abd174b-7850-4bc4-a2f3-e349c5d195e8",
   "metadata": {},
   "outputs": [],
   "source": [
    "# Create a new array where pixels in OPTRAM array \n",
    "# with clear skies are kept and every other pixel\n",
    "# is set to nan"
   ]
  },
  {
   "cell_type": "code",
   "execution_count": 55,
   "id": "f631b1b9-6363-41b1-beba-d621d541eb1c",
   "metadata": {},
   "outputs": [],
   "source": [
    "OPTRAM = (str0 - str_min)/(str_max - str_min)"
   ]
  },
  {
   "cell_type": "code",
   "execution_count": 56,
   "id": "c488d5be-9a76-466f-a596-e4aafc155bbe",
   "metadata": {},
   "outputs": [
    {
     "data": {
      "text/plain": [
       "1000000"
      ]
     },
     "execution_count": 56,
     "metadata": {},
     "output_type": "execute_result"
    }
   ],
   "source": [
    "OPTRAM_flat = np.asarray(OPTRAM).flatten()\n",
    "len(OPTRAM_flat)"
   ]
  },
  {
   "cell_type": "code",
   "execution_count": 57,
   "id": "357cec9c-efcf-423a-bddb-b6136b5efee7",
   "metadata": {},
   "outputs": [],
   "source": [
    "cloud_masked_OPTRAM_list = []\n",
    "for i in range(1000000):\n",
    "    if binary_final_str_flat[i][-10:-8] == '01':   \n",
    "        keep = OPTRAM_flat[i]\n",
    "        cloud_masked_OPTRAM_list.append(keep)   \n",
    "    else:\n",
    "        cloud_masked_OPTRAM_list.append(np.nan)"
   ]
  },
  {
   "cell_type": "code",
   "execution_count": 58,
   "id": "60fce8b4-b417-4e57-8623-5043c377c784",
   "metadata": {},
   "outputs": [
    {
     "data": {
      "text/plain": [
       "NaN         660230\n",
       "0.522193       216\n",
       "0.525027       135\n",
       "0.517108       127\n",
       "0.475328       126\n",
       "             ...  \n",
       "0.311567         1\n",
       "0.311568         1\n",
       "0.311569         1\n",
       "0.311570         1\n",
       "0.388772         1\n",
       "Length: 180699, dtype: int64"
      ]
     },
     "execution_count": 58,
     "metadata": {},
     "output_type": "execute_result"
    }
   ],
   "source": [
    "pd.DataFrame(cloud_masked_OPTRAM_list).value_counts(dropna=False)"
   ]
  },
  {
   "cell_type": "code",
   "execution_count": 59,
   "id": "a37406ae-9d8e-4c7e-a935-2baa0f3b079d",
   "metadata": {},
   "outputs": [],
   "source": [
    "# BELOW THIS DELETE IF NECESSARY"
   ]
  },
  {
   "cell_type": "code",
   "execution_count": 60,
   "id": "6ad69d32-70b9-4cf1-b923-02eaa9d9b254",
   "metadata": {},
   "outputs": [
    {
     "data": {
      "text/plain": [
       "(1000, 1000)"
      ]
     },
     "execution_count": 60,
     "metadata": {},
     "output_type": "execute_result"
    }
   ],
   "source": [
    "OPTRAM_FINAL_CLOUD_MASKED = np.asarray(cloud_masked_OPTRAM_list).reshape((1000,1000))\n",
    "OPTRAM_FINAL_CLOUD_MASKED.shape"
   ]
  },
  {
   "cell_type": "code",
   "execution_count": 61,
   "id": "811111b2-ef0a-4a16-bb7e-1a4174903096",
   "metadata": {},
   "outputs": [],
   "source": [
    "pd.DataFrame(OPTRAM_FINAL_CLOUD_MASKED).to_csv('/Users/nikaankoupaei/Downloads/ownCloud/20231222_OPTRAM_FILES_REALIZED_DIDNT_INLCUDE_VALID_RANGE_ENDS_FOR_LANDSAT/MA_UNDRAINED/LANDSAT_7/NEW_FOR_20231222__7_cloud_masked_OPTRAM_20130420_tang_filtered.csv')\n",
    "\n",
    "\n"
   ]
  }
 ],
 "metadata": {
  "kernelspec": {
   "display_name": "Python 3 (ipykernel)",
   "language": "python",
   "name": "python3"
  },
  "language_info": {
   "codemirror_mode": {
    "name": "ipython",
    "version": 3
   },
   "file_extension": ".py",
   "mimetype": "text/x-python",
   "name": "python",
   "nbconvert_exporter": "python",
   "pygments_lexer": "ipython3",
   "version": "3.8.13"
  }
 },
 "nbformat": 4,
 "nbformat_minor": 5
}
